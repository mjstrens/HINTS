{
 "cells": [
  {
   "cell_type": "code",
   "execution_count": 1,
   "metadata": {},
   "outputs": [],
   "source": [
    "# HINTS with numpy\n",
    "#%load_ext line_profiler\n",
    "import numpy as np\n",
    "from HINTS import *\n",
    "from HINTS_fn import *\n"
   ]
  },
  {
   "cell_type": "code",
   "execution_count": 2,
   "metadata": {},
   "outputs": [],
   "source": [
    "# NB the proposed state must not share memory with the original state (because we hash when we cache)\n",
    "def proposal1(state, index):\n",
    "    return(state + 0.1 * randn(state.shape[0]), 0.0) # new state, optional evaluation at new state, correction for asymmetry  \n",
    "\n"
   ]
  },
  {
   "cell_type": "code",
   "execution_count": 3,
   "metadata": {},
   "outputs": [
    {
     "name": "stdout",
     "output_type": "stream",
     "text": [
      "(4000, 1)\n"
     ]
    }
   ],
   "source": [
    "# test the  Test function\n",
    "xs = np.arange(-2.0, 2.0, 0.001)\n",
    "shuffle(xs) # so noise is random\n",
    "\n",
    "exs = np.expand_dims(xs, axis=1)\n",
    "print(exs.shape)\n",
    "\n",
    "e = TestFn(proposal1, xs.size)\n",
    "\n"
   ]
  },
  {
   "cell_type": "code",
   "execution_count": 4,
   "metadata": {},
   "outputs": [
    {
     "name": "stdout",
     "output_type": "stream",
     "text": [
      "CPU times: user 134 ms, sys: 3.85 ms, total: 138 ms\n",
      "Wall time: 137 ms\n",
      "CPU times: user 3.35 ms, sys: 0 ns, total: 3.35 ms\n",
      "Wall time: 3.36 ms\n"
     ]
    }
   ],
   "source": [
    "\n",
    "%time ys = [e.evaluate(x, i) for i, x in enumerate(exs)]\n",
    "#print(cache.stats(enable=True))\n",
    "%time ys = [e.evaluate(x, i) for i, x in enumerate(exs)]\n",
    "#%time ys = [e.cached_evaluate(x, i) for i, x in enumerate(exs)]\n",
    "#print(cache.stats(enable=True))\n",
    "#%time ys = [e.user_evaluate(x, i) for i, x in enumerate(exs)]\n",
    "#print(cache.stats(enable=True))\n",
    "\n",
    "# caching has a big overhead!!\n"
   ]
  },
  {
   "cell_type": "code",
   "execution_count": 5,
   "metadata": {},
   "outputs": [
    {
     "name": "stdout",
     "output_type": "stream",
     "text": [
      "1024\n",
      "{'levels': 5, 'design': array([1, 4, 4, 4, 4, 4]), 'additive': True, 'T': 1.0, 'dT': 0.0}\n"
     ]
    }
   ],
   "source": [
    "import argparse\n",
    "parser = argparse.ArgumentParser()\n",
    "args = parser.parse_known_args()[0] # defaults\n",
    "#HINTS payoff comes for large num scenarios > 1000\n",
    "# checked regular MCMC is accurate (1 level, lbf = 6)\n",
    "if True:\n",
    "    args.levels = 5\n",
    "    log_branch_factor = 2\n",
    "    N_0 = 1\n",
    "    args.design = np.array([N_0] + [2 ** log_branch_factor for l in range(args.levels)])\n",
    "    NUM_SCENARIOS = N_0 * 2 ** (args.levels * log_branch_factor) # TO DO get from HINTS\n",
    "    iterations = 5000\n",
    "else: #MCMC\n",
    "    args.levels = 0\n",
    "    NUM_SCENARIOS = 1024\n",
    "    args.design = np.array([NUM_SCENARIOS])\n",
    "    iterations = 42094# need to match actual evaluations\n",
    "\n",
    "print(NUM_SCENARIOS)\n",
    "\n",
    "# design now has levels + 1 entries\n",
    "\n",
    "# additive log probability is more natural from a Bayesian perspective but both are valid\n",
    "\n",
    "args.additive = True # effectively selects a different temperature structure when False (= average or expectation)\n",
    "\n",
    "args.T = 1.0 #top level\n",
    "args.dT = 0.0 if args.additive else 0.5 # temperature increment by level (mainly for optimisation or averaging structure)\n",
    "\n",
    "print(args.__dict__)"
   ]
  },
  {
   "cell_type": "code",
   "execution_count": 6,
   "metadata": {},
   "outputs": [
    {
     "name": "stdout",
     "output_type": "stream",
     "text": [
      "RESET\n",
      "5\n",
      "[   1    4   16   64  256 1024]\n",
      "1024\n",
      "[1. 1. 1. 1. 1. 1.]\n",
      "[0.14138998]\n"
     ]
    }
   ],
   "source": [
    "\n",
    "g = TestFn(proposal1, NUM_SCENARIOS, args.additive)\n",
    "hmc = HINTS(args, g)\n",
    "state  = g.sample_initial_state()\n",
    "print(state)\n",
    "\n",
    "nsd = 4.0 # for diagnostics only\n",
    "bins = 64\n",
    "\n",
    "histogram = np.zeros([bins], dtype = float)\n",
    "\n",
    "#%timeit hmc.shuffle() # negligible\n",
    "#%timeit hmc.hints(state,  levels, index = 0, T = 1.0, dbg = False) # e.g. dbg = (t==0)\n",
    "\n",
    "\n"
   ]
  },
  {
   "cell_type": "code",
   "execution_count": 7,
   "metadata": {},
   "outputs": [
    {
     "name": "stdout",
     "output_type": "stream",
     "text": [
      "500 [511974 127952  31912   7788   1641    316] [ 26  48  88 212 359 184]\n",
      "1000 [1023949  255895   63821   15571    3314     631] [ 51 105 179 429 686 369]\n",
      "1500 [1535910  383844   95714   23376    4975     935] [  90  156  286  624 1025  565]\n",
      "2000 [2047869  511803  127624   31188    6660    1241] [ 131  197  376  812 1340  759]\n",
      "2500 [2559842  639764  159514   38990    8334    1564] [ 158  236  486 1010 1666  936]\n",
      "3000 [3071818  767715  191411   46778   10013    1876] [ 182  285  589 1222 1987 1124]\n",
      "3500 [3583780  895672  223321   54551   11721    2198] [ 220  328  679 1449 2279 1302]\n",
      "4000 [4095750 1023625  255225   62338   13392    2520] [ 250  375  775 1662 2608 1480]\n",
      "4500 [4607715 1151563  287133   70129   15068    2837] [ 285  437  867 1871 2932 1663]\n",
      "5000 [5119676 1279508  319040   77905   16729    3152] [ 324  492  960 2095 3271 1848]\n"
     ]
    }
   ],
   "source": [
    "# FAR FASTER WITHOUT CACHING FOR SIMPLE TEST TASKS\n",
    "# SO IF WE CACHE, SHOULD BE BIG CHUNKS. OR WE AVOID MEMOIZING\n",
    "# e.g. JUST KEEP LUT PER STATE (i.e. at each level)\n",
    "\n",
    "#cache.clear()\n",
    "#print(cache.stats(enable=True, reset = True))\n",
    "for t in range(iterations):\n",
    "    hmc.shuffle()\n",
    "    state, correction = hmc.hints(state, args.levels) # e.g. dbg = (t==0)\n",
    "    # diagnostic histogram\n",
    "    if (abs(state[0]) < nsd): # ignoring samples outside diagnostic range\n",
    "        j = int((state[0] + nsd) * bins/(2.0 * nsd))\n",
    "        histogram[j] += 1.0\n",
    "    # show progress\n",
    "    if ((t%500)==499):\n",
    "        print(t+1, hmc.acceptances, hmc.rejections)\n",
    "        #print(cache.stats(enable=True, reset = True))\n"
   ]
  },
  {
   "cell_type": "code",
   "execution_count": 8,
   "metadata": {},
   "outputs": [
    {
     "name": "stdout",
     "output_type": "stream",
     "text": [
      "[  0.   0.   0.   0.   1.   1.   1.   4.   3.   3.  13.   7.  13.  19.\n",
      "  24.  22.  40.  76.  75.  45.  92.  85. 127. 144. 165. 177. 188. 239.\n",
      " 248. 202. 239. 244. 288. 246. 217. 224. 201. 193. 176. 183. 127. 135.\n",
      " 103.  94.  75.  62.  33.  34.  34.  18.  22.  12.   6.   7.   2.   1.\n",
      "   3.   0.   4.   1.   0.   0.   0.   0.]\n",
      "[5119676 1279508  319040   77905   16729    3152]\n",
      "[ 324  492  960 2095 3271 1848]\n",
      "[0.99993672 0.99961563 0.997      0.9738125  0.83645    0.6304    ]\n"
     ]
    }
   ],
   "source": [
    "print(histogram)\n",
    "print(hmc.acceptances)\n",
    "print(hmc.rejections)\n",
    "print(hmc.acceptances / (hmc.acceptances + hmc.rejections))"
   ]
  },
  {
   "cell_type": "code",
   "execution_count": 14,
   "metadata": {},
   "outputs": [
    {
     "data": {
      "text/plain": [
       "[<matplotlib.lines.Line2D at 0x7f6b46ff8518>]"
      ]
     },
     "execution_count": 14,
     "metadata": {},
     "output_type": "execute_result"
    },
    {
     "data": {
      "image/png": "[encoded data removed]",
      "text/plain": [
       "<Figure size 864x576 with 1 Axes>"
      ]
     },
     "metadata": {
      "needs_background": "light"
     },
     "output_type": "display_data"
    }
   ],
   "source": [
    "%matplotlib inline\n",
    "import matplotlib.pyplot as plt # just for testing\n",
    "\n",
    "#plt.plot(histogram)\n",
    "fig = plt.figure(figsize=[12,8])\n",
    "ax1 = plt.gca()\n",
    "xs1 = np.arange(bins, dtype = float) * (2.0 * nsd)/bins - nsd \n",
    "\n",
    "logprob = np.log(histogram + 0.01)\n",
    "\n",
    "plt.plot(xs1, logprob - np.max(logprob))\n",
    "xs = np.arange(-nsd, nsd, nsd/80.0)\n",
    "shuffle(xs) # so noise is not correlated with term\n",
    "exs = np.expand_dims(xs, axis=1)\n",
    "\n",
    "#hxs = [HashableItem(np.array([x])) for x in xs]\n",
    "\n",
    "# do not create a new test function here... use the same one\n",
    "if args.additive:\n",
    "    ys = [sum([g.evaluate(x, i) for i in range(NUM_SCENARIOS)]) for x in exs]\n",
    "else:\n",
    "    ys = [sum([g.evaluate(x, i)/NUM_SCENARIOS for i in range(NUM_SCENARIOS)]) for x in exs]\n",
    "\n",
    "plt.plot(xs, ys,'.')\n"
   ]
  },
  {
   "cell_type": "code",
   "execution_count": 15,
   "metadata": {},
   "outputs": [
    {
     "name": "stdout",
     "output_type": "stream",
     "text": [
      "Calls: 61,440,000; Missed cache: 43,112,765; Miss rate: 70%\n"
     ]
    }
   ],
   "source": [
    "print('Calls: {:,}; '.format(g.total_counter) + 'Missed cache: {:,}; '.format(g.counter) + 'Miss rate: {}%'.format(int((100.0 * g.counter)/g.total_counter)))\n",
    "# HINTS gives you fewwer samples but each is better mixed\n",
    "# which is fine if you are going to marginalise \n"
   ]
  },
  {
   "cell_type": "code",
   "execution_count": 11,
   "metadata": {},
   "outputs": [
    {
     "data": {
      "text/plain": [
       "42094"
      ]
     },
     "execution_count": 11,
     "metadata": {},
     "output_type": "execute_result"
    }
   ],
   "source": [
    "#iterations = int(g.counter/NUM_SCENARIOS) # for MCMC\n",
    "iterations = int(43104413/NUM_SCENARIOS) # for MCMC\n",
    "iterations"
   ]
  },
  {
   "cell_type": "code",
   "execution_count": 12,
   "metadata": {},
   "outputs": [],
   "source": [
    "# example of how to use line profiler\n",
    "if False:\n",
    "    from line_profiler import LineProfiler\n",
    "    lp = LineProfiler()\n",
    "    lp.add_function(g.__call__)\n",
    "    lp.add_function(g.cached_evaluate)\n",
    "    lp_wrapper = lp(hmc.hints)\n",
    "    lp_wrapper(state, args.levels)\n",
    "    #lp_wrapper = lp(g.evaluate)\n",
    "    #lp_wrapper(np.array([0.123456789]), args.levels)\n",
    "    lp.print_stats()\n",
    "\n"
   ]
  },
  {
   "cell_type": "code",
   "execution_count": 13,
   "metadata": {},
   "outputs": [],
   "source": [
    "# TO DO \n",
    "# pytorch test function\n",
    "# state is model\n",
    "# proposal is grad descent + noise (Langevin or HMC style) on minibatch\n",
    "# SEE TorchModelScratch"
   ]
  },
  {
   "cell_type": "code",
   "execution_count": null,
   "metadata": {},
   "outputs": [],
   "source": []
  }
 ],
 "metadata": {
  "kernelspec": {
   "display_name": "Python 3",
   "language": "python",
   "name": "python3"
  },
  "language_info": {
   "codemirror_mode": {
    "name": "ipython",
    "version": 3
   },
   "file_extension": ".py",
   "mimetype": "text/x-python",
   "name": "python",
   "nbconvert_exporter": "python",
   "pygments_lexer": "ipython3",
   "version": "3.7.3"
  }
 },
 "nbformat": 4,
 "nbformat_minor": 4
}
