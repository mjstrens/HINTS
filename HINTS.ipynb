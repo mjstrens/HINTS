{
 "cells": [
  {
   "cell_type": "code",
   "execution_count": 1,
   "metadata": {},
   "outputs": [],
   "source": [
    "# HINTS with numpy\n",
    "#%load_ext line_profiler\n",
    "import numpy as np\n",
    "from HINTS import *\n",
    "from HINTS_fn import *\n",
    "#import cython # TO DO"
   ]
  },
  {
   "cell_type": "code",
   "execution_count": 2,
   "metadata": {},
   "outputs": [],
   "source": [
    "# NB the proposed state must not share memory with the original state (because we hash when we cache)\n",
    "def proposal1(state, index):\n",
    "    return(state + randn(state.shape[0]), 0.0) # new state, optional evaluation at new state, correction for asymmetry  \n",
    "\n"
   ]
  },
  {
   "cell_type": "code",
   "execution_count": 3,
   "metadata": {},
   "outputs": [
    {
     "name": "stdout",
     "output_type": "stream",
     "text": [
      "Wall time: 21.5 ms\n",
      "4000\n",
      "Wall time: 2 ms\n",
      "4000\n",
      "Wall time: 3.99 ms\n",
      "4000\n",
      "Wall time: 15 ms\n",
      "8000\n"
     ]
    }
   ],
   "source": [
    "# test the  Test function\n",
    "xs = np.arange(-2.0, 2.0, 0.001)\n",
    "shuffle(xs) # so noise is random\n",
    "e = TestFn(proposal1, xs.size)\n",
    "f = e.evaluate\n",
    "\n",
    "hxs = [HashableItem(np.array([x])) for x in xs]\n",
    "\n",
    "%time ys = [f(x, i, 0) for i, x in enumerate(hxs)]\n",
    "print(e.counter)\n",
    "%time ys = [f(x, i, 0) for i, x in enumerate(hxs)]\n",
    "print(e.counter)\n",
    "%time ys = [f(x, i, 0) for i, x in enumerate(hxs)]\n",
    "print(e.counter)\n",
    "%time ys = [e.user_evaluate((x,), i, 0) for i, x in enumerate(xs)]\n",
    "print(e.counter)"
   ]
  },
  {
   "cell_type": "code",
   "execution_count": 4,
   "metadata": {},
   "outputs": [
    {
     "name": "stdout",
     "output_type": "stream",
     "text": [
      "256\n",
      "{'levels': 8, 'design': array([1, 2, 2, 2, 2, 2, 2, 2, 2]), 'additive': True, 'T': 1.0, 'dT': 0.0}\n"
     ]
    }
   ],
   "source": [
    "import argparse\n",
    "parser = argparse.ArgumentParser()\n",
    "args = parser.parse_known_args()[0] # defaults\n",
    "\n",
    "# checked regular MCMC is accurate (1 level, lbf = 6)\n",
    "if True:\n",
    "    args.levels = 8\n",
    "    log_branch_factor = 1\n",
    "    N_0 = 1\n",
    "    args.design = np.array([N_0] + [2 ** log_branch_factor for l in range(args.levels)])\n",
    "    NUM_SCENARIOS = N_0 * 2 ** (args.levels * log_branch_factor) # TO DO get from HINTS\n",
    "else: #MCMC\n",
    "    args.levels = 0\n",
    "    NUM_SCENARIOS = 256\n",
    "    args.design = np.array([NUM_SCENARIOS])\n",
    "\n",
    "print(NUM_SCENARIOS)\n",
    "\n",
    "# design now has levels + 1 entries\n",
    "\n",
    "# additive log probability is more natural from a Bayesian perspective but both are valid\n",
    "\n",
    "args.additive = True # effectively selects a different temperature structure when False (= average or expectation)\n",
    "\n",
    "args.T = 1.0 #top level\n",
    "args.dT = 0.0 if args.additive else 0.5 # temperature increment by level (mainly for optimisation or averaging structure)\n",
    "\n",
    "print(args.__dict__)"
   ]
  },
  {
   "cell_type": "code",
   "execution_count": 5,
   "metadata": {},
   "outputs": [
    {
     "name": "stdout",
     "output_type": "stream",
     "text": [
      "RESET\n",
      "8\n",
      "[  1   2   4   8  16  32  64 128 256]\n",
      "256\n",
      "[1. 1. 1. 1. 1. 1. 1. 1. 1.]\n",
      "<HINTS_fn.HashableItem object at 0x000001774B0C1BE0>\n"
     ]
    }
   ],
   "source": [
    "\n",
    "g = TestFn(proposal1, NUM_SCENARIOS, args.additive)\n",
    "hmc = HINTS(args, g)\n",
    "state  = g.sample_initial_state()\n",
    "print(state)\n",
    "\n",
    "nsd = 4.0 # for diagnostics only\n",
    "bins = 64\n",
    "\n",
    "histogram = np.zeros([bins], dtype = float)\n",
    "\n",
    "#%timeit hmc.shuffle() # negligible\n",
    "#%timeit hmc.hints(state,  levels, index = 0, T = 1.0, dbg = False) # e.g. dbg = (t==0)\n"
   ]
  },
  {
   "cell_type": "code",
   "execution_count": 6,
   "metadata": {},
   "outputs": [
    {
     "name": "stdout",
     "output_type": "stream",
     "text": [
      "500\n",
      "1000\n",
      "1500\n",
      "2000\n",
      "2500\n",
      "3000\n",
      "3500\n",
      "4000\n",
      "4500\n",
      "5000\n"
     ]
    }
   ],
   "source": [
    "for t in range(5000):\n",
    "    hmc.shuffle()\n",
    "    state, correction = hmc.hints(state, args.levels) # e.g. dbg = (t==0)\n",
    "    # diagnostic histogram\n",
    "    if (abs(state.x[0]) < nsd): # ignoring samples outside diagnostic range\n",
    "        j = int((state.x[0] + nsd) * bins/(2.0 * nsd))\n",
    "        histogram[j] += 1.0\n",
    "    # show progress\n",
    "    if ((t%500)==499):\n",
    "        print(t+1)"
   ]
  },
  {
   "cell_type": "code",
   "execution_count": 7,
   "metadata": {},
   "outputs": [
    {
     "name": "stdout",
     "output_type": "stream",
     "text": [
      "[  0.   1.   0.   0.   0.   2.   1.   0.   2.   4.   3.   7.  13.  18.\n",
      "  15.  28.  38.  49.  57.  59.  69. 121. 120. 134. 161. 188. 182. 227.\n",
      " 227. 243. 249. 281. 303. 234. 237. 217. 178. 174. 190. 165. 159. 109.\n",
      " 102.  98.  74.  50.  60.  40.  33.  15.  14.  14.  18.   8.   2.   1.\n",
      "   3.   1.   0.   1.   1.   0.   0.   0.]\n",
      "[1273093  634949  312742  150739   69943   32332   15626    7810    3949]\n",
      "[ 6907  5051  7258  9261 10057  7668  4374  2190  1051]\n",
      "[0.99460391 0.99210781 0.97731875 0.94211875 0.8742875  0.8083\n",
      " 0.7813     0.781      0.7898    ]\n"
     ]
    }
   ],
   "source": [
    "print(histogram)\n",
    "print(hmc.acceptances)\n",
    "print(hmc.rejections)\n",
    "print(hmc.acceptances / (hmc.acceptances + hmc.rejections))"
   ]
  },
  {
   "cell_type": "code",
   "execution_count": 8,
   "metadata": {},
   "outputs": [
    {
     "data": {
      "text/plain": [
       "[<matplotlib.lines.Line2D at 0x177537ea080>]"
      ]
     },
     "execution_count": 8,
     "metadata": {},
     "output_type": "execute_result"
    },
    {
     "data": {
      "image/png": "[encoded data removed]",
      "text/plain": [
       "<Figure size 864x576 with 1 Axes>"
      ]
     },
     "metadata": {
      "needs_background": "light"
     },
     "output_type": "display_data"
    }
   ],
   "source": [
    "%matplotlib inline\n",
    "import matplotlib.pyplot as plt # just for testing\n",
    "\n",
    "#plt.plot(histogram)\n",
    "fig = plt.figure(figsize=[12,8])\n",
    "ax1 = plt.gca()\n",
    "xs1 = np.arange(bins, dtype = float) * (2.0 * nsd)/bins - nsd \n",
    "\n",
    "logprob = np.log(histogram + 0.01)\n",
    "\n",
    "plt.plot(xs1, logprob - np.max(logprob))\n",
    "xs = np.arange(-nsd, nsd, nsd/80.0)\n",
    "shuffle(xs) # so noise is not correlated with term\n",
    "\n",
    "hxs = [HashableItem(np.array([x])) for x in xs]\n",
    "\n",
    "# do not create a new test function here... use the same one\n",
    "if args.additive:\n",
    "    ys = [sum([g.evaluate(x, i, 0) for i in range(NUM_SCENARIOS)]) for x in hxs]\n",
    "else:\n",
    "    ys = [sum([g.evaluate(x, i, 0)/NUM_SCENARIOS for i in range(NUM_SCENARIOS)]) for x in hxs]\n",
    "\n",
    "plt.plot(xs, ys,'.')\n"
   ]
  },
  {
   "cell_type": "code",
   "execution_count": 9,
   "metadata": {},
   "outputs": [
    {
     "name": "stdout",
     "output_type": "stream",
     "text": [
      "Calls: 23,080,960; Missed cache: 20,447,197; Miss rate: 88%\n"
     ]
    }
   ],
   "source": [
    "print('Calls: {:,}; '.format(g.total_counter) + 'Missed cache: {:,}; '.format(g.counter) + 'Miss rate: {}%'.format(int((100.0 * g.counter)/g.total_counter)))"
   ]
  },
  {
   "cell_type": "code",
   "execution_count": 10,
   "metadata": {},
   "outputs": [],
   "source": [
    "# TO DO \n",
    "# pytorch test function\n",
    "# state is model\n",
    "# proposal is grad descent + noise (Langevin or HMC style) on minibatch\n",
    "# SEE HINTS_fn_torch.py"
   ]
  },
  {
   "cell_type": "code",
   "execution_count": null,
   "metadata": {},
   "outputs": [],
   "source": []
  }
 ],
 "metadata": {
  "kernelspec": {
   "display_name": "Python 3",
   "language": "python",
   "name": "python3"
  },
  "language_info": {
   "codemirror_mode": {
    "name": "ipython",
    "version": 3
   },
   "file_extension": ".py",
   "mimetype": "text/x-python",
   "name": "python",
   "nbconvert_exporter": "python",
   "pygments_lexer": "ipython3",
   "version": "3.7.0"
  }
 },
 "nbformat": 4,
 "nbformat_minor": 4
}
