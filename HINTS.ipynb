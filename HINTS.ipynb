{
 "cells": [
  {
   "cell_type": "code",
   "execution_count": 1,
   "metadata": {},
   "outputs": [],
   "source": [
    "# HINTS with numpy\n",
    "#%load_ext line_profiler\n",
    "import numpy as np\n",
    "from HINTS import *\n",
    "from HINTS_fn import *\n"
   ]
  },
  {
   "cell_type": "code",
   "execution_count": 2,
   "metadata": {},
   "outputs": [],
   "source": [
    "# NB the proposed state must not share memory with the original state (because we hash when we cache)\n",
    "def proposal1(state, index):\n",
    "    return(state + 0.1 * randn(state.shape[0]), 0.0) # new state, optional evaluation at new state, correction for asymmetry  \n",
    "\n"
   ]
  },
  {
   "cell_type": "code",
   "execution_count": 3,
   "metadata": {},
   "outputs": [
    {
     "name": "stdout",
     "output_type": "stream",
     "text": [
      "(4000, 1)\n"
     ]
    }
   ],
   "source": [
    "# test the  Test function\n",
    "xs = np.arange(-2.0, 2.0, 0.001)\n",
    "shuffle(xs) # so noise is random\n",
    "\n",
    "exs = np.expand_dims(xs, axis=1)\n",
    "print(exs.shape)\n",
    "\n",
    "e = TestFn(proposal1, xs.size)\n",
    "\n"
   ]
  },
  {
   "cell_type": "code",
   "execution_count": 4,
   "metadata": {},
   "outputs": [
    {
     "name": "stdout",
     "output_type": "stream",
     "text": [
      "CPU times: user 113 ms, sys: 16 ms, total: 129 ms\n",
      "Wall time: 128 ms\n",
      "CPU times: user 3.45 ms, sys: 0 ns, total: 3.45 ms\n",
      "Wall time: 3.45 ms\n"
     ]
    }
   ],
   "source": [
    "\n",
    "%time ys = [e.evaluate(x, i) for i, x in enumerate(exs)]\n",
    "#print(cache.stats(enable=True))\n",
    "%time ys = [e.evaluate(x, i) for i, x in enumerate(exs)]\n",
    "#%time ys = [e.cached_evaluate(x, i) for i, x in enumerate(exs)]\n",
    "#print(cache.stats(enable=True))\n",
    "#%time ys = [e.user_evaluate(x, i) for i, x in enumerate(exs)]\n",
    "#print(cache.stats(enable=True))\n",
    "\n",
    "# caching has a big overhead!!\n"
   ]
  },
  {
   "cell_type": "code",
   "execution_count": 33,
   "metadata": {},
   "outputs": [
    {
     "name": "stdout",
     "output_type": "stream",
     "text": [
      "1024\n",
      "{'levels': 0, 'design': array([1024]), 'additive': True, 'T': 1.0, 'dT': 0.0}\n"
     ]
    }
   ],
   "source": [
    "import argparse\n",
    "parser = argparse.ArgumentParser()\n",
    "args = parser.parse_known_args()[0] # defaults\n",
    "#HINTS payoff comes for large num scenarios > 1000\n",
    "# checked regular MCMC is accurate (1 level, lbf = 6)\n",
    "if False:\n",
    "    args.levels = 5\n",
    "    log_branch_factor = 2\n",
    "    N_0 = 1\n",
    "    args.design = np.array([N_0] + [2 ** log_branch_factor for l in range(args.levels)])\n",
    "    NUM_SCENARIOS = N_0 * 2 ** (args.levels * log_branch_factor) # TO DO get from HINTS\n",
    "    iterations = 5000\n",
    "else: #MCMC\n",
    "    args.levels = 0\n",
    "    NUM_SCENARIOS = 1024\n",
    "    args.design = np.array([NUM_SCENARIOS])\n",
    "    iterations = 42094# need to match actual evaluations\n",
    "\n",
    "print(NUM_SCENARIOS)\n",
    "\n",
    "# design now has levels + 1 entries\n",
    "\n",
    "# additive log probability is more natural from a Bayesian perspective but both are valid\n",
    "\n",
    "args.additive = True # effectively selects a different temperature structure when False (= average or expectation)\n",
    "\n",
    "args.T = 1.0 #top level\n",
    "args.dT = 0.0 if args.additive else 0.5 # temperature increment by level (mainly for optimisation or averaging structure)\n",
    "\n",
    "print(args.__dict__)"
   ]
  },
  {
   "cell_type": "code",
   "execution_count": 34,
   "metadata": {},
   "outputs": [
    {
     "name": "stdout",
     "output_type": "stream",
     "text": [
      "RESET\n",
      "0\n",
      "[1024]\n",
      "1024\n",
      "[1.]\n",
      "[1.64879722]\n"
     ]
    }
   ],
   "source": [
    "\n",
    "g = TestFn(proposal1, NUM_SCENARIOS, args.additive)\n",
    "hmc = HINTS(args, g)\n",
    "state  = g.sample_initial_state()\n",
    "print(state)\n",
    "\n",
    "nsd = 4.0 # for diagnostics only\n",
    "bins = 64\n",
    "\n",
    "histogram = np.zeros([bins], dtype = float)\n",
    "\n",
    "#%timeit hmc.shuffle() # negligible\n",
    "#%timeit hmc.hints(state,  levels, index = 0, T = 1.0, dbg = False) # e.g. dbg = (t==0)\n",
    "\n",
    "\n"
   ]
  },
  {
   "cell_type": "code",
   "execution_count": 35,
   "metadata": {},
   "outputs": [
    {
     "name": "stdout",
     "output_type": "stream",
     "text": [
      "500 [477] [23]\n",
      "1000 [961] [39]\n",
      "1500 [1452] [48]\n",
      "2000 [1935] [65]\n",
      "2500 [2424] [76]\n",
      "3000 [2910] [90]\n",
      "3500 [3397] [103]\n",
      "4000 [3892] [108]\n",
      "4500 [4368] [132]\n",
      "5000 [4857] [143]\n",
      "5500 [5347] [153]\n",
      "6000 [5839] [161]\n",
      "6500 [6317] [183]\n",
      "7000 [6804] [196]\n",
      "7500 [7284] [216]\n",
      "8000 [7770] [230]\n",
      "8500 [8263] [237]\n",
      "9000 [8750] [250]\n",
      "9500 [9240] [260]\n",
      "10000 [9718] [282]\n",
      "10500 [10191] [309]\n",
      "11000 [10682] [318]\n",
      "11500 [11153] [347]\n",
      "12000 [11626] [374]\n",
      "12500 [12119] [381]\n",
      "13000 [12601] [399]\n",
      "13500 [13092] [408]\n",
      "14000 [13576] [424]\n",
      "14500 [14053] [447]\n",
      "15000 [14539] [461]\n",
      "15500 [15029] [471]\n",
      "16000 [15518] [482]\n",
      "16500 [16007] [493]\n",
      "17000 [16490] [510]\n",
      "17500 [16972] [528]\n",
      "18000 [17463] [537]\n",
      "18500 [17941] [559]\n",
      "19000 [18388] [612]\n",
      "19500 [18877] [623]\n",
      "20000 [19362] [638]\n",
      "20500 [19837] [663]\n",
      "21000 [20324] [676]\n",
      "21500 [20794] [706]\n",
      "22000 [21275] [725]\n",
      "22500 [21765] [735]\n",
      "23000 [22250] [750]\n",
      "23500 [22735] [765]\n",
      "24000 [23223] [777]\n",
      "24500 [23711] [789]\n",
      "25000 [24205] [795]\n",
      "25500 [24687] [813]\n",
      "26000 [25171] [829]\n",
      "26500 [25662] [838]\n",
      "27000 [26145] [855]\n",
      "27500 [26626] [874]\n",
      "28000 [27111] [889]\n",
      "28500 [27601] [899]\n",
      "29000 [28078] [922]\n",
      "29500 [28549] [951]\n",
      "30000 [29033] [967]\n",
      "30500 [29523] [977]\n",
      "31000 [30002] [998]\n",
      "31500 [30479] [1021]\n",
      "32000 [30969] [1031]\n",
      "32500 [31454] [1046]\n",
      "33000 [31946] [1054]\n",
      "33500 [32430] [1070]\n",
      "34000 [32916] [1084]\n",
      "34500 [33405] [1095]\n",
      "35000 [33893] [1107]\n",
      "35500 [34374] [1126]\n",
      "36000 [34852] [1148]\n",
      "36500 [35350] [1150]\n",
      "37000 [35832] [1168]\n",
      "37500 [36322] [1178]\n",
      "38000 [36815] [1185]\n",
      "38500 [37290] [1210]\n",
      "39000 [37768] [1232]\n",
      "39500 [38253] [1247]\n",
      "40000 [38748] [1252]\n",
      "40500 [39243] [1257]\n",
      "41000 [39735] [1265]\n",
      "41500 [40225] [1275]\n",
      "42000 [40706] [1294]\n"
     ]
    }
   ],
   "source": [
    "# FAR FASTER WITHOUT CACHING FOR SIMPLE TEST TASKS\n",
    "# SO IF WE CACHE, SHOULD BE BIG CHUNKS. OR WE AVOID MEMOIZING\n",
    "# e.g. JUST KEEP LUT PER STATE (i.e. at each level)\n",
    "\n",
    "#cache.clear()\n",
    "#print(cache.stats(enable=True, reset = True))\n",
    "for t in range(iterations):\n",
    "    hmc.shuffle()\n",
    "    state, correction = hmc.hints(state, args.levels) # e.g. dbg = (t==0)\n",
    "    # diagnostic histogram\n",
    "    if (abs(state[0]) < nsd): # ignoring samples outside diagnostic range\n",
    "        j = int((state[0] + nsd) * bins/(2.0 * nsd))\n",
    "        histogram[j] += 1.0\n",
    "    # show progress\n",
    "    if ((t%500)==499):\n",
    "        print(t+1, hmc.acceptances, hmc.rejections)\n",
    "        #print(cache.stats(enable=True, reset = True))\n"
   ]
  },
  {
   "cell_type": "code",
   "execution_count": 38,
   "metadata": {},
   "outputs": [
    {
     "name": "stdout",
     "output_type": "stream",
     "text": [
      "[0.000e+00 0.000e+00 0.000e+00 0.000e+00 0.000e+00 2.000e+00 2.000e+01\n",
      " 5.800e+01 4.600e+01 4.800e+01 5.500e+01 6.400e+01 8.500e+01 1.430e+02\n",
      " 1.550e+02 2.100e+02 3.040e+02 3.570e+02 5.590e+02 7.280e+02 8.430e+02\n",
      " 9.810e+02 1.045e+03 1.056e+03 1.228e+03 1.505e+03 1.648e+03 1.733e+03\n",
      " 1.937e+03 2.012e+03 2.106e+03 2.272e+03 2.336e+03 2.316e+03 2.480e+03\n",
      " 2.178e+03 1.975e+03 1.739e+03 1.360e+03 1.106e+03 9.780e+02 8.190e+02\n",
      " 7.260e+02 5.990e+02 5.320e+02 4.560e+02 4.040e+02 3.420e+02 1.970e+02\n",
      " 1.180e+02 8.600e+01 5.200e+01 4.600e+01 3.500e+01 1.000e+01 4.000e+00\n",
      " 0.000e+00 0.000e+00 0.000e+00 0.000e+00 0.000e+00 0.000e+00 0.000e+00\n",
      " 0.000e+00]\n",
      "[40799]\n",
      "[1295]\n",
      "[0.96923552]\n"
     ]
    }
   ],
   "source": [
    "print(histogram)\n",
    "print(hmc.acceptances)\n",
    "print(hmc.rejections)\n",
    "print(hmc.acceptances / (hmc.acceptances + hmc.rejections))"
   ]
  },
  {
   "cell_type": "code",
   "execution_count": 39,
   "metadata": {},
   "outputs": [
    {
     "data": {
      "text/plain": [
       "[<matplotlib.lines.Line2D at 0x7fc39cae71d0>]"
      ]
     },
     "execution_count": 39,
     "metadata": {},
     "output_type": "execute_result"
    },
    {
     "data": {
      "image/png": "[encoded data removed]",
      "text/plain": [
       "<Figure size 864x576 with 1 Axes>"
      ]
     },
     "metadata": {
      "needs_background": "light"
     },
     "output_type": "display_data"
    }
   ],
   "source": [
    "%matplotlib inline\n",
    "import matplotlib.pyplot as plt # just for testing\n",
    "\n",
    "#plt.plot(histogram)\n",
    "fig = plt.figure(figsize=[12,8])\n",
    "ax1 = plt.gca()\n",
    "xs1 = np.arange(bins, dtype = float) * (2.0 * nsd)/bins - nsd \n",
    "\n",
    "logprob = np.log(histogram + 0.01)\n",
    "\n",
    "plt.plot(xs1, logprob - np.max(logprob))\n",
    "xs = np.arange(-nsd, nsd, nsd/80.0)\n",
    "shuffle(xs) # so noise is not correlated with term\n",
    "exs = np.expand_dims(xs, axis=1)\n",
    "\n",
    "#hxs = [HashableItem(np.array([x])) for x in xs]\n",
    "\n",
    "# do not create a new test function here... use the same one\n",
    "if args.additive:\n",
    "    ys = [sum([g.evaluate(x, i) for i in range(NUM_SCENARIOS)]) for x in exs]\n",
    "else:\n",
    "    ys = [sum([g.evaluate(x, i)/NUM_SCENARIOS for i in range(NUM_SCENARIOS)]) for x in exs]\n",
    "\n",
    "plt.plot(xs, ys,'.')\n"
   ]
  },
  {
   "cell_type": "code",
   "execution_count": 25,
   "metadata": {},
   "outputs": [
    {
     "name": "stdout",
     "output_type": "stream",
     "text": [
      "Calls: 61,440,000; Missed cache: 43,104,413; Miss rate: 70%\n"
     ]
    }
   ],
   "source": [
    "print('Calls: {:,}; '.format(g.total_counter) + 'Missed cache: {:,}; '.format(g.counter) + 'Miss rate: {}%'.format(int((100.0 * g.counter)/g.total_counter)))"
   ]
  },
  {
   "cell_type": "code",
   "execution_count": 32,
   "metadata": {},
   "outputs": [
    {
     "data": {
      "text/plain": [
       "42094"
      ]
     },
     "execution_count": 32,
     "metadata": {},
     "output_type": "execute_result"
    }
   ],
   "source": [
    "#iterations = int(g.counter/NUM_SCENARIOS) # for MCMC\n",
    "iterations = int(43104413/NUM_SCENARIOS) # for MCMC\n",
    "iterations"
   ]
  },
  {
   "cell_type": "code",
   "execution_count": 31,
   "metadata": {},
   "outputs": [
    {
     "name": "stdout",
     "output_type": "stream",
     "text": [
      "Timer unit: 1e-06 s\n",
      "\n",
      "Total time: 0.00012 s\n",
      "File: /home/malcolm/dev/HINTS/HINTS.py\n",
      "Function: hints at line 41\n",
      "\n",
      "Line #      Hits         Time  Per Hit   % Time  Line Contents\n",
      "==============================================================\n",
      "    41                                               def hints(self, state, level, index = 0, always_accept = False): # main function, requires value of current as input\n",
      "    42         1        120.0    120.0    100.0          if (level == 0): return(self.primitive_move(state, index)) # this is only separate so we can override\n",
      "    43                                                   scenarios = self.scenarios(level, index)\n",
      "    44                                                   correction = 0.0\n",
      "    45                                                   current = state # we hold state at all levels in the hierarchy\n",
      "    46                                                   for b in range(self.design[level]):\n",
      "    47                                                       current, delta_correction = self.hints(current, level-1, index * self.design[level] + b)\n",
      "    48                                                       correction += delta_correction\n",
      "    49                                                   # now do composite evaluations AFTER primitive ones, in case primitive ones needed gradients\n",
      "    50                                                   vdiff = (self.fn(current, scenarios) - self.fn(state, scenarios))/self.Ts[level] # these are cached evaluations, no side effects\n",
      "    51                                                   accept = True if always_accept else self.metropolis_accept(vdiff - correction)\n",
      "    52                                                   (self.acceptances if accept else self.rejections)[level] += 1\n",
      "    53                                                   return((current, vdiff) if accept else (state, 0.0))\n",
      "\n",
      "Total time: 0 s\n",
      "File: /home/malcolm/dev/HINTS/HINTS_fn.py\n",
      "Function: cached_evaluate at line 35\n",
      "\n",
      "Line #      Hits         Time  Per Hit   % Time  Line Contents\n",
      "==============================================================\n",
      "    35                                               def cached_evaluate(self, state, term_index):\n",
      "    36                                                   return(self.user_evaluate(state, term_index))\n",
      "\n",
      "Total time: 4.1e-05 s\n",
      "File: /home/malcolm/dev/HINTS/HINTS_fn.py\n",
      "Function: __call__ at line 48\n",
      "\n",
      "Line #      Hits         Time  Per Hit   % Time  Line Contents\n",
      "==============================================================\n",
      "    48                                               def __call__(self, state, scenarios):\n",
      "    49         2          3.0      1.5      7.3          n = len(scenarios)\n",
      "    50         2         31.0     15.5     75.6          sum_f  = sum([self.evaluate(state, term) for term in scenarios])\n",
      "    51         2          3.0      1.5      7.3          sum_f += self.evaluate_regularisation(state) * n # OPTIONAL, MUST scale with number of scenarios\n",
      "    52         2          2.0      1.0      4.9          self.total_counter += n # lru cache ignores this side effect\n",
      "    53         2          2.0      1.0      4.9          return(sum_f if self.additive else sum_f/n)\n",
      "\n"
     ]
    }
   ],
   "source": [
    "from line_profiler import LineProfiler\n",
    "\n",
    "lp = LineProfiler()\n",
    "lp.add_function(g.__call__)\n",
    "lp.add_function(g.cached_evaluate)\n",
    "lp_wrapper = lp(hmc.hints)\n",
    "lp_wrapper(state, args.levels)\n",
    "#lp_wrapper = lp(g.evaluate)\n",
    "#lp_wrapper(np.array([0.123456789]), args.levels)\n",
    "lp.print_stats()\n",
    "\n"
   ]
  },
  {
   "cell_type": "code",
   "execution_count": 10,
   "metadata": {},
   "outputs": [],
   "source": [
    "# TO DO \n",
    "# pytorch test function\n",
    "# state is model\n",
    "# proposal is grad descent + noise (Langevin or HMC style) on minibatch\n",
    "# SEE TorchModelScratch"
   ]
  },
  {
   "cell_type": "code",
   "execution_count": null,
   "metadata": {},
   "outputs": [],
   "source": []
  }
 ],
 "metadata": {
  "kernelspec": {
   "display_name": "Python 3",
   "language": "python",
   "name": "python3"
  },
  "language_info": {
   "codemirror_mode": {
    "name": "ipython",
    "version": 3
   },
   "file_extension": ".py",
   "mimetype": "text/x-python",
   "name": "python",
   "nbconvert_exporter": "python",
   "pygments_lexer": "ipython3",
   "version": "3.7.3"
  }
 },
 "nbformat": 4,
 "nbformat_minor": 4
}
