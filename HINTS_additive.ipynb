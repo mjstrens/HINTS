{
 "cells": [
  {
   "cell_type": "code",
   "execution_count": 1,
   "id": "1f1f5f4f-1c94-48f5-a2f7-0a8087288912",
   "metadata": {},
   "outputs": [],
   "source": [
    "import numpy as np\n",
    "from HINTS import *\n",
    "from HINTS_additive_pdf import *\n",
    "\n",
    "%matplotlib inline\n",
    "import matplotlib.pyplot as plt # just for testing"
   ]
  },
  {
   "cell_type": "code",
   "execution_count": 2,
   "id": "94981008-f2cf-43d5-a2d4-782b32acf76b",
   "metadata": {},
   "outputs": [],
   "source": [
    "def proposal1(state, index):\n",
    "    return(state + 0.1 * randn(state.shape[0]), 0.0) # new state, optional evaluation at new state, correction for asymmetry  \n",
    "\n"
   ]
  },
  {
   "cell_type": "code",
   "execution_count": 3,
   "id": "e7943205-7d79-46ca-8527-f050e7786d39",
   "metadata": {},
   "outputs": [
    {
     "name": "stdout",
     "output_type": "stream",
     "text": [
      "0.999731072027148 -0.02758935155325297 0.6396832684361033\n"
     ]
    },
    {
     "data": {
      "image/png": "[encoded data removed]",
      "text/plain": [
       "<Figure size 432x288 with 1 Axes>"
      ]
     },
     "metadata": {
      "needs_background": "light"
     },
     "output_type": "display_data"
    }
   ],
   "source": [
    "\n",
    "# visualise stepped Gaussian ... has nasty properties but we can reduce noise\n",
    "xs = np.arange(-4.0, 4.0, 0.05)\n",
    "N = 1000\n",
    "np.random.seed(0)\n",
    "e = TestFnStepped(proposal1, N, reduce_variance = False)\n",
    "exs = np.expand_dims(xs, axis=1)\n",
    "plt.figure()\n",
    "\n",
    "ysum = np.zeros(xs.size)\n",
    "for i in range(N):\n",
    "    ys = [e.evaluate_prob(x, i) for x in exs]\n",
    "    ysum += ys\n",
    "    #plt.gca().plot(xs, ys)\n",
    "tgt = ysum/N # pdf\n",
    "plt.gca().plot(xs, tgt) \n",
    "plt.grid() \n",
    "\n",
    "print(np.sum(tgt) * 0.05, np.sum(tgt * xs)/np.sum(tgt), np.sum(tgt * xs * xs)/np.sum(tgt)) # area under curve = 1, moments\n",
    "# variance is not = 1 - maybe it is 2/3??"
   ]
  },
  {
   "cell_type": "code",
   "execution_count": 4,
   "id": "1497fcf3-ce94-4a01-b4c3-eb339867f77a",
   "metadata": {},
   "outputs": [
    {
     "name": "stdout",
     "output_type": "stream",
     "text": [
      "1.0109811607661237 -0.01758913453582651 0.6337130645991687\n"
     ]
    },
    {
     "data": {
      "image/png": "[encoded data removed]",
      "text/plain": [
       "<Figure size 432x288 with 1 Axes>"
      ]
     },
     "metadata": {
      "needs_background": "light"
     },
     "output_type": "display_data"
    }
   ],
   "source": [
    "\n",
    "# visualise stepped Gaussian ... has nasty properties but we can reduce noise\n",
    "xs = np.arange(-4.0, 4.0, 0.05)\n",
    "np.random.seed(0)\n",
    "N = 1000\n",
    "e = TestFnStepped(proposal1, N, reduce_variance = True)\n",
    "exs = np.expand_dims(xs, axis=1)\n",
    "plt.figure()\n",
    "\n",
    "ysum = np.zeros(xs.size)\n",
    "for i in range(N):\n",
    "    ys = [e.evaluate_prob(x, i) for x in exs]\n",
    "    ysum += ys\n",
    "    #plt.gca().plot(xs, ys)\n",
    "tgt = ysum/N # pdf\n",
    "plt.gca().plot(xs, tgt) \n",
    "plt.grid() \n",
    "\n",
    "print(np.sum(tgt) * 0.05, np.sum(tgt * xs)/np.sum(tgt), np.sum(tgt * xs * xs)/np.sum(tgt)) # area under curve = 1, moments\n",
    "# variance is not = 1 - maybe it is 2/3??"
   ]
  },
  {
   "cell_type": "code",
   "execution_count": 5,
   "id": "62625c18-9723-4551-83fb-2dd6b1d2b9b9",
   "metadata": {},
   "outputs": [
    {
     "name": "stdout",
     "output_type": "stream",
     "text": [
      "1024\n",
      "{'levels': 5, 'design': array([1, 4, 4, 4, 4, 4]), 'additive': False, 'T': 1.0, 'dT': 0.0}\n"
     ]
    }
   ],
   "source": [
    "import argparse\n",
    "parser = argparse.ArgumentParser()\n",
    "args = parser.parse_known_args()[0] # defaults\n",
    "#HINTS payoff comes for large num scenarios > 1000\n",
    "# checked regular MCMC is accurate (1 level, lbf = 6)\n",
    "if True:\n",
    "    args.levels = 5\n",
    "    log_branch_factor = 2\n",
    "    N_0 = 1\n",
    "    args.design = np.array([N_0] + [2 ** log_branch_factor for l in range(args.levels)])\n",
    "    NUM_SCENARIOS = N_0 * 2 ** (args.levels * log_branch_factor) # TO DO get from HINTS\n",
    "    iterations = 1000\n",
    "else: #MCMC\n",
    "    args.levels = 0\n",
    "    NUM_SCENARIOS = 1024\n",
    "    args.design = np.array([NUM_SCENARIOS])\n",
    "    iterations = 42094# YOU NEED TO ADJUST THIS TOMATCH EXACT # EVALS OF THE HINTS WE ARE COMPARING WITH\n",
    "\n",
    "print(NUM_SCENARIOS)\n",
    "\n",
    "# design now has levels + 1 entries\n",
    "# additive log probability is more natural from a Bayesian perspective but both are valid\n",
    "\n",
    "args.additive = False\n",
    "args.T = 1.0 #top level\n",
    "#args.dT = 0.0 if args.additive else 0.5 # temperature increment by level (mainly for optimisation or averaging structure)\n",
    "args.dT = 0.0 \n",
    "\n",
    "\n",
    "print(args.__dict__)"
   ]
  },
  {
   "cell_type": "code",
   "execution_count": 6,
   "id": "4813c80c-84bb-4e64-b138-afc07b93b60b",
   "metadata": {},
   "outputs": [
    {
     "name": "stdout",
     "output_type": "stream",
     "text": [
      "RESET\n",
      "5\n",
      "[   1    4   16   64  256 1024]\n",
      "1024\n",
      "[1. 1. 1. 1. 1. 1.]\n",
      "[0.52738853]\n"
     ]
    }
   ],
   "source": [
    "\n",
    "#g = TestFn(proposal1, NUM_SCENARIOS, args.additive, args.grad_scale)\n",
    "g = TestFnStepped(proposal1, NUM_SCENARIOS)\n",
    "hmc = HINTS(args, g)\n",
    "state  = g.sample_initial_state()\n",
    "print(state)\n",
    "\n",
    "nsd = 4.0 # for diagnostics only\n",
    "bins = 64\n",
    "\n",
    "histogram = np.zeros([bins], dtype = float)"
   ]
  },
  {
   "cell_type": "code",
   "execution_count": 7,
   "id": "46c201e4-b48f-4bd7-87fc-ad125ce7679b",
   "metadata": {},
   "outputs": [
    {
     "name": "stdout",
     "output_type": "stream",
     "text": [
      "50 [49930 10669  2147   583   156    43] [1270 2131 1053  217   44    7]\n",
      "100 [99954 21474  4381  1152   300    85] [2446 4126 2019  448  100   15]\n",
      "150 [150036  32226   6549   1702    459    127] [3564 6174 3051  698  141   23]\n",
      "200 [200048  42946   8770   2251    616    168] [4752 8254 4030  949  184   32]\n",
      "250 [249931  53555  10913   2820    777    212] [ 6069 10445  5087  1180   223    38]\n",
      "300 [299865  64195  13059   3380    937    258] [ 7335 12605  6141  1420   263    42]\n",
      "350 [349847  74839  15210   3948   1086    297] [ 8553 14761  7190  1652   314    53]\n",
      "400 [399814  85620  17374   4494   1245    340] [ 9786 16780  8226  1906   355    60]\n",
      "450 [449698  96155  19507   5044   1400    385] [11102 19045  9293  2156   400    65]\n",
      "500 [499599 106905  21696   5619   1562    430] [12401 21095 10304  2381   438    70]\n",
      "550 [549577 117598  23875   6178   1703    473] [13623 23202 11325  2622   497    77]\n",
      "600 [599544 128349  26059   6729   1860    519] [14856 25251 12341  2871   540    81]\n",
      "650 [649536 139009  28191   7279   2009    565] [16064 27391 13409  3121   591    85]\n",
      "700 [699448 149715  30337   7825   2175    609] [17352 29485 14463  3375   625    91]\n",
      "750 [749360 160304  32509   8397   2342    654] [18640 31696 15491  3603   658    96]\n",
      "800 [799243 170965  34625   8968   2499    698] [19957 33835 16575  3832   701   102]\n",
      "850 [849184 181729  36795   9518   2657    742] [21216 35871 17605  4082   743   108]\n",
      "900 [899221 192574  39006  10085   2807    783] [22379 37826 18594  4315   793   117]\n",
      "950 [949131 203256  41198  10645   2964    827] [23669 39944 19602  4555   836   123]\n",
      "1000 [998992 213817  43345  11224   3118    869] [25008 42183 20655  4776   882   131]\n"
     ]
    }
   ],
   "source": [
    "for t in range(iterations):\n",
    "    hmc.shuffle()\n",
    "    state, correction = hmc.hints(state, args.levels) # e.g. dbg = (t==0)\n",
    "    # diagnostic histogram\n",
    "    if (abs(state[0]) < nsd): # ignoring samples outside diagnostic range\n",
    "        j = int((state[0] + nsd) * bins/(2.0 * nsd))\n",
    "        histogram[j] += 1.0\n",
    "    # show progress\n",
    "    if ((t%50)==49):\n",
    "        print(t+1, hmc.acceptances, hmc.rejections)\n",
    "        #print(cache.stats(enable=True, reset = True))\n"
   ]
  },
  {
   "cell_type": "code",
   "execution_count": 10,
   "id": "99be5e98-fb82-4e50-8b6a-11747c9a1dbe",
   "metadata": {},
   "outputs": [
    {
     "name": "stdout",
     "output_type": "stream",
     "text": [
      "[ 0.  0.  0.  0.  0.  0.  0.  0.  4.  0.  0.  0.  0.  0.  2.  2.  1.  4.\n",
      "  0. 15. 17. 10. 21. 23. 15. 35. 53. 53. 69. 63. 57. 71. 64. 53. 53. 49.\n",
      " 41. 45. 43. 30. 28. 15. 12. 16.  9.  8.  7.  7.  0.  0.  1.  0.  0.  4.\n",
      "  0.  0.  0.  0.  0.  0.  0.  0.  0.  0.]\n",
      "[998992 213817  43345  11224   3118    869]\n",
      "[25008 42183 20655  4776   882   131]\n",
      "[0.97557812 0.83522266 0.67726562 0.7015     0.7795     0.869     ]\n"
     ]
    }
   ],
   "source": [
    "print(histogram)\n",
    "print(hmc.acceptances)\n",
    "print(hmc.rejections)\n",
    "print(hmc.acceptances / (hmc.acceptances + hmc.rejections))"
   ]
  },
  {
   "cell_type": "code",
   "execution_count": 15,
   "id": "fc292574-dd7e-4164-aca0-74deecd02a5b",
   "metadata": {},
   "outputs": [
    {
     "data": {
      "image/png": "[encoded data removed]",
      "text/plain": [
       "<Figure size 864x576 with 1 Axes>"
      ]
     },
     "metadata": {
      "needs_background": "light"
     },
     "output_type": "display_data"
    }
   ],
   "source": [
    "# compare densities (sampled vs target)\n",
    "\n",
    "fig = plt.figure(figsize=[12,8])\n",
    "ax1 = plt.gca()\n",
    "xs1 = np.arange(bins, dtype = float) * (2.0 * nsd)/bins - nsd \n",
    "\n",
    "#logprob = np.log(histogram + 0.01)\n",
    "\n",
    "dx = (2.0 * nsd)/bins\n",
    "plt.plot(xs1, (histogram/np.sum(histogram))/dx, label = \"sample\", drawstyle = 'steps-post')\n",
    "\n",
    "xs = np.arange(-2.0 * nsd, 2.0 * nsd, dx)\n",
    "exs = np.expand_dims(xs, axis=1)\n",
    "\n",
    "# do not create a new test function here... use the same one\n",
    "if args.additive:\n",
    "    ys = [sum([g.evaluate_prob(x, i) for i in range(NUM_SCENARIOS)]) for x in exs]\n",
    "else:\n",
    "    ys = [sum([g.evaluate_prob(x, i)/NUM_SCENARIOS for i in range(NUM_SCENARIOS)]) for x in exs]\n",
    "\n",
    "plt.plot(xs, ys, label = 'target density', drawstyle = 'steps-post')\n",
    "plt.legend()\n",
    "plt.grid()\n"
   ]
  },
  {
   "cell_type": "code",
   "execution_count": null,
   "id": "bd8878ea-ef05-4ef9-b9fa-c18aab0acce2",
   "metadata": {},
   "outputs": [],
   "source": []
  }
 ],
 "metadata": {
  "kernelspec": {
   "display_name": "Python 3",
   "language": "python",
   "name": "python3"
  },
  "language_info": {
   "codemirror_mode": {
    "name": "ipython",
    "version": 3
   },
   "file_extension": ".py",
   "mimetype": "text/x-python",
   "name": "python",
   "nbconvert_exporter": "python",
   "pygments_lexer": "ipython3",
   "version": "3.7.16"
  }
 },
 "nbformat": 4,
 "nbformat_minor": 5
}
