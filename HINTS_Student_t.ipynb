{
 "cells": [
  {
   "cell_type": "code",
   "execution_count": 1,
   "metadata": {},
   "outputs": [],
   "source": [
    "# HINTS with numpy\n",
    "#%load_ext line_profiler\n",
    "import numpy as np\n",
    "from HINTS import *\n",
    "from HINTS_fn_Student_t import *\n",
    "\n",
    "%matplotlib inline\n",
    "import matplotlib.pyplot as plt # just for testing"
   ]
  },
  {
   "cell_type": "markdown",
   "metadata": {},
   "source": [
    "# Student t distribution\n",
    "\n",
    "- overview https://en.wikipedia.org/wiki/Student%27s_t-distribution\n",
    "- in scipy https://docs.scipy.org/doc/scipy/reference/generated/scipy.stats.t.html \n",
    "\n",
    "A 'non-standard' or 'location-scale' t distribution has the following params:\n",
    "\n",
    "- &nu; (int >=1) degrees of freedom\n",
    "- &mu; mean & mode\n",
    "- &tau; scale parameter\n",
    "\n"
   ]
  },
  {
   "cell_type": "code",
   "execution_count": 2,
   "metadata": {
    "tags": []
   },
   "outputs": [
    {
     "name": "stdout",
     "output_type": "stream",
     "text": [
      "0.9965458053084697  should approx. equal  1.0\n",
      "1.1614197455050919  should approx. equal  1.1547005383792515\n"
     ]
    },
    {
     "data": {
      "image/png": "[encoded data removed]",
      "text/plain": [
       "<Figure size 432x288 with 1 Axes>"
      ]
     },
     "metadata": {
      "needs_background": "light"
     },
     "output_type": "display_data"
    }
   ],
   "source": [
    "# generate some example data in numpy\n",
    "mu = 1.0\n",
    "tau = 1.0 # not the same as sigma because the standard t has variance nu/(nu-2), if this exists\n",
    "nu = 8 # NB if wer choose low values of nu (dof) we get a very tight distribution\n",
    "log2N = 14 # size of dataset\n",
    "NX = 2 ** log2N\n",
    "\n",
    "\n",
    "eg = mu + np.random.standard_t(nu, size = NX) * tau\n",
    "\n",
    "print(np.mean(eg), \" should approx. equal \", mu)\n",
    "print(np.std(eg), \" should approx. equal \", np.sqrt(nu/(nu-2)))\n",
    "\n",
    "counts, bins = np.histogram(eg, bins = 100)\n",
    "_ = plt.hist(bins[:-1], bins, weights=counts)\n",
    "plt.grid() # NB if we make nu smaller we get much fatter tails"
   ]
  },
  {
   "cell_type": "code",
   "execution_count": 3,
   "metadata": {
    "tags": []
   },
   "outputs": [
    {
     "name": "stdout",
     "output_type": "stream",
     "text": [
      "0.9918377249339972  should approx. equal  1.0\n",
      "1.1619439895734593  should approx. equal  1.1547005383792515\n"
     ]
    },
    {
     "data": {
      "image/png": "[encoded data removed]",
      "text/plain": [
       "<Figure size 432x288 with 1 Axes>"
      ]
     },
     "metadata": {
      "needs_background": "light"
     },
     "output_type": "display_data"
    }
   ],
   "source": [
    "# scipy\n",
    "\n",
    "np.random.seed(seed=4) # depending on seed, the max likelihood nu may or may not be the same as the nu we used\n",
    "\n",
    "from scipy.stats import t # non central t\n",
    "\n",
    "eg2 = t.rvs(nu, loc = mu, scale = tau, size = NX)\n",
    "\n",
    "print(np.mean(eg2), \" should approx. equal \", mu)\n",
    "print(np.std(eg2), \" should approx. equal \", np.sqrt(nu/(nu-2)))\n",
    "\n",
    "counts2, bins2 = np.histogram(eg2, bins = 100)\n",
    "_ = plt.hist(bins2[:-1], bins2, weights=counts2)\n",
    "plt.grid() # NB if we make nu smaller we get much fatter tails\n",
    "\n",
    "# all looks fine"
   ]
  },
  {
   "cell_type": "code",
   "execution_count": 4,
   "metadata": {
    "tags": []
   },
   "outputs": [
    {
     "name": "stdout",
     "output_type": "stream",
     "text": [
      "8\n",
      "-25489.196478797254\n",
      "Neighbours - MLL: will usually be negative (less likely) \n",
      "-3.7150665039007436\n",
      "-5.470751554828894\n",
      "-12.228713015985704\n",
      "-21.14222245550627\n",
      "-17.818551739175746\n",
      "-39.46836741266452\n"
     ]
    }
   ],
   "source": [
    "# log likelihood example (it's not very sensitive to dof!)\n",
    "print(nu)\n",
    "mll = t(nu, loc = mu, scale = tau).logpdf(eg2).sum() # likelihood for actual params\n",
    "print(mll) # actual\n",
    "print(\"Neighbours - MLL: will usually be negative (less likely) \") \n",
    "print(t(nu-1, loc = mu, scale = tau).logpdf(eg2).sum() - mll)\n",
    "print(t(nu+1, loc = mu, scale = tau).logpdf(eg2).sum() - mll)\n",
    "print(t(nu, loc = mu - 0.05, scale = tau).logpdf(eg2).sum() - mll)\n",
    "print(t(nu, loc = mu + 0.05, scale = tau).logpdf(eg2).sum() - mll)\n",
    "print(t(nu, loc = mu, scale = tau * 1.05).logpdf(eg2).sum() - mll)\n",
    "print(t(nu, loc = mu, scale = tau / 1.05).logpdf(eg2).sum() - mll)\n",
    "\n",
    "# NB if we see -10, then it is exp(-10) less likely. So even with N = 10000, the posterior on DOF is very tight "
   ]
  },
  {
   "cell_type": "code",
   "execution_count": 5,
   "metadata": {
    "tags": []
   },
   "outputs": [
    {
     "name": "stdout",
     "output_type": "stream",
     "text": [
      "644 µs ± 1.86 µs per loop (mean ± std. dev. of 7 runs, 1000 loops each)\n",
      "880 µs ± 2.84 µs per loop (mean ± std. dev. of 7 runs, 1000 loops each)\n",
      "1.09 ms ± 28.7 µs per loop (mean ± std. dev. of 7 runs, 1000 loops each)\n"
     ]
    }
   ],
   "source": [
    "%timeit t(nu, mu, tau) #656 micros  SCIPY is slow to construct objects\n",
    "%timeit t(nu, mu, tau).logpdf(eg2[:1]) # 905 micros\n",
    "%timeit t(nu, mu, tau).logpdf(eg2[:1000]) #1070 micros: SO IN REALITY WE WOULD DO BIG VECTOR EVALUATIONS (BUT NOT FOR TESTING HERE ... WOULD BE OVERCONFIDENT) "
   ]
  },
  {
   "cell_type": "code",
   "execution_count": 6,
   "metadata": {
    "tags": []
   },
   "outputs": [
    {
     "name": "stdout",
     "output_type": "stream",
     "text": [
      "Student t state variable: nu = 8,  mu = 1.000, tau = 1.000\n",
      "-1.5557370897703402\n",
      "Student t state variable: nu = 9,  mu = 0.954, tau = 0.992\n"
     ]
    }
   ],
   "source": [
    "\n",
    "\n",
    "\n",
    "x1 = StateT(nu, mu, tau)\n",
    "print(x1)\n",
    "print(x1.log_like(eg2)/len(eg2)) # should be same as above\n",
    "\n",
    "print(proposalT(x1)[0])\n"
   ]
  },
  {
   "cell_type": "code",
   "execution_count": 7,
   "metadata": {
    "tags": []
   },
   "outputs": [
    {
     "name": "stdout",
     "output_type": "stream",
     "text": [
      "256 scenarios by 64 in each leaf = 16384 (dataset size)\n",
      "(256, 64)\n"
     ]
    }
   ],
   "source": [
    "\n",
    "\n",
    "# say we have NX = 2**14 datapoints: arrange as 1024 scenarios each with 16, or 256 by 64\n",
    "# HINTS will have biggest advantage for small leaf size (mixing time in terms of leaf evals)\n",
    "\n",
    "LEAF_SIZE = 64 ## vectorise at leaves for speed\n",
    "NUM_SCENARIOS = NX//LEAF_SIZE\n",
    "print(NUM_SCENARIOS, \"scenarios by\", LEAF_SIZE, \"in each leaf =\", NX, \"(dataset size)\")\n",
    "\n",
    "data = t.rvs(nu, loc = mu, scale = tau, size = [NUM_SCENARIOS, LEAF_SIZE])\n",
    "print(data.shape)\n",
    "\n"
   ]
  },
  {
   "cell_type": "code",
   "execution_count": 8,
   "metadata": {
    "tags": []
   },
   "outputs": [
    {
     "name": "stdout",
     "output_type": "stream",
     "text": [
      "0\n",
      "Wall time: 259 ms\n",
      "256\n",
      "Wall time: 999 µs\n",
      "256\n",
      "Wall time: 0 ns\n",
      "256\n",
      "Wall time: 0 ns\n",
      "256\n"
     ]
    }
   ],
   "source": [
    "# CHECK CACHE IS WORKING\n",
    "\n",
    "fn = TestFnT(data)\n",
    "\n",
    "print(fn.counter)\n",
    "%time fn(x1, list(range(NUM_SCENARIOS)))/(NUM_SCENARIOS * LEAF_SIZE) # check we get the right log likelihood\n",
    "print(fn.counter)\n",
    "%time fn(x1, list(range(NUM_SCENARIOS)))/(NUM_SCENARIOS * LEAF_SIZE)# run again to check cache is working\n",
    "\n",
    "# check cache lookup is assignment-proof\n",
    "x3 = x1\n",
    "print(fn.counter)\n",
    "%time fn(x3, list(range(NUM_SCENARIOS)))/(NUM_SCENARIOS * LEAF_SIZE)# run again to check cache is working\n",
    "print(fn.counter)\n",
    "\n",
    "# check cache lookup is return proof\n",
    "def rI(x):\n",
    "    return(x)\n",
    "x4 = rI(x1)\n",
    "%time fn(x4, list(range(NUM_SCENARIOS)))/(NUM_SCENARIOS * LEAF_SIZE)# run again to check cache is working\n",
    "print(fn.counter)\n"
   ]
  },
  {
   "cell_type": "code",
   "execution_count": 9,
   "metadata": {},
   "outputs": [
    {
     "name": "stdout",
     "output_type": "stream",
     "text": [
      "256\n",
      "{'levels': 4, 'design': array([1, 4, 4, 4, 4]), 'additive': True, 'T': 1.0, 'dT': 0.0}\n"
     ]
    }
   ],
   "source": [
    "import argparse\n",
    "parser = argparse.ArgumentParser()\n",
    "args = parser.parse_known_args()[0] # defaults\n",
    "\n",
    "\n",
    "if True: # put True in for HINTS, False for simple MCMC where evaluations use all data\n",
    "    args.levels = 4\n",
    "    log_branch_factor = 2\n",
    "    N_0 = 1\n",
    "    args.design = np.array([N_0] + [2 ** log_branch_factor for l in range(args.levels)])\n",
    "    NUM_SCENARIOS = N_0 * 2 ** (args.levels * log_branch_factor) # TO DO get from HINTS\n",
    "    iterations = 1000\n",
    "else: #MCMC\n",
    "    args.levels = 0\n",
    "    NUM_SCENARIOS = 256\n",
    "    args.design = np.array([NUM_SCENARIOS])\n",
    "    iterations = 2000 # NB this is not comparable with HINTS iterations ... check the g.counter for actual leaf node (scenario) function evaluations\n",
    "\n",
    "print(NUM_SCENARIOS)\n",
    "\n",
    "# design now has levels + 1 entries\n",
    "args.additive = True # natural for lok likelihoods in Bayesian inference\n",
    "args.T = 1.0 #top level\n",
    "args.dT = 0.0\n",
    "\n",
    "print(args.__dict__)"
   ]
  },
  {
   "cell_type": "code",
   "execution_count": 10,
   "metadata": {},
   "outputs": [
    {
     "name": "stdout",
     "output_type": "stream",
     "text": [
      "RESET\n",
      "4\n",
      "[  1   4  16  64 256]\n",
      "256\n",
      "[1. 1. 1. 1. 1.]\n",
      "Student t state variable: nu = 1,  mu = 0.000, tau = 1.000\n"
     ]
    }
   ],
   "source": [
    "seed(4) # just happens to give us data where MLL nu is actual nu\n",
    "data = t.rvs(nu, loc = mu, scale = tau, size = [NUM_SCENARIOS, LEAF_SIZE])\n",
    "g = TestFnT(data)\n",
    "hmc = HINTS(args, g)\n",
    "state  = g.sample_initial_state()\n",
    "print(state)\n"
   ]
  },
  {
   "cell_type": "code",
   "execution_count": 11,
   "metadata": {},
   "outputs": [
    {
     "name": "stdout",
     "output_type": "stream",
     "text": [
      "100 [19760  3241   472   227    72] [5840 3159 1128  173   28] 256000 108538\n",
      "200 [39505  6410   989   422   152] [11695  6390  2211   378    48] 512000 215627\n",
      "300 [59244  9560  1505   628   228] [17556  9640  3295   572    72] 768000 321728\n",
      "400 [78926 12717  1979   849   307] [23474 12883  4421   751    93] 1024000 426093\n",
      "500 [98739 15919  2468  1043   377] [29261 16081  5532   957   123] 1280000 534608\n",
      "600 [118619  19151   2969   1243    449] [34981 19249  6631  1157   151] 1536000 642910\n",
      "700 [138419  22350   3465   1449    518] [40781 22450  7735  1351   182] 1792000 751034\n",
      "800 [158241  25535   3919   1666    598] [46559 25665  8881  1534   202] 2048000 856274\n",
      "900 [178100  28733   4379   1888    672] [52300 28867 10021  1712   228] 2304000 963005\n",
      "1000 [197973  31870   4892   2087    753] [58027 32130 11108  1913   247] 2560000 1068225\n"
     ]
    }
   ],
   "source": [
    "\n",
    "# do not use t as a variable name!!\n",
    "history = []\n",
    "for tstep in range(iterations):\n",
    "    hmc.shuffle()\n",
    "    state, correction = hmc.hints(state, args.levels) # e.g. dbg = (t==0)\n",
    "    # show progress\n",
    "    if ((tstep%100)==99):\n",
    "        print(tstep+1, hmc.acceptances, hmc.rejections, hmc.fn.total_counter, hmc.fn.counter)\n",
    "    #\n",
    "    history.append({'nu':state.nu, 'mu':state.mu, 'tau':state.tau})"
   ]
  },
  {
   "cell_type": "code",
   "execution_count": 12,
   "metadata": {},
   "outputs": [
    {
     "name": "stdout",
     "output_type": "stream",
     "text": [
      "[197973  31870   4892   2087    753]\n",
      "[58027 32130 11108  1913   247]\n",
      "[0.77333203 0.49796875 0.30575    0.52175    0.753     ]\n"
     ]
    }
   ],
   "source": [
    "# acceptance statistics at each level in the tree\n",
    "print(hmc.acceptances)\n",
    "print(hmc.rejections)\n",
    "print(hmc.acceptances / (hmc.acceptances + hmc.rejections))\n",
    "\n",
    "# they will be worse for MCMC than HINTS, because HINTS gives you very directed proposals at the top level"
   ]
  },
  {
   "cell_type": "code",
   "execution_count": 13,
   "metadata": {},
   "outputs": [
    {
     "name": "stdout",
     "output_type": "stream",
     "text": [
      "Calls: 2,560,000; Missed cache: 1,068,225; Miss rate: 41%\n"
     ]
    }
   ],
   "source": [
    "# for a publication assume the primitive evaluations are expensive, so your x axis for performance charts should be g.counter\n",
    "\n",
    "print('Calls: {:,}; '.format(g.total_counter) + 'Missed cache: {:,}; '.format(g.counter) + 'Miss rate: {}%'.format(int((100.0 * g.counter)/g.total_counter)))\n",
    "# HINTS gives you fewer samples but each is better mixed\n",
    "# which is fine if you are going to marginalise \n"
   ]
  },
  {
   "cell_type": "code",
   "execution_count": 14,
   "metadata": {},
   "outputs": [],
   "source": [
    "import pandas as pd\n",
    "samples = pd.DataFrame(history)"
   ]
  },
  {
   "cell_type": "code",
   "execution_count": 15,
   "metadata": {
    "tags": []
   },
   "outputs": [
    {
     "data": {
      "text/html": [
       "<div>\n",
       "<style scoped>\n",
       "    .dataframe tbody tr th:only-of-type {\n",
       "        vertical-align: middle;\n",
       "    }\n",
       "\n",
       "    .dataframe tbody tr th {\n",
       "        vertical-align: top;\n",
       "    }\n",
       "\n",
       "    .dataframe thead th {\n",
       "        text-align: right;\n",
       "    }\n",
       "</style>\n",
       "<table border=\"1\" class=\"dataframe\">\n",
       "  <thead>\n",
       "    <tr style=\"text-align: right;\">\n",
       "      <th></th>\n",
       "      <th>nu</th>\n",
       "      <th>mu</th>\n",
       "      <th>tau</th>\n",
       "    </tr>\n",
       "  </thead>\n",
       "  <tbody>\n",
       "    <tr>\n",
       "      <th>count</th>\n",
       "      <td>1000.000000</td>\n",
       "      <td>1000.000000</td>\n",
       "      <td>1000.000000</td>\n",
       "    </tr>\n",
       "    <tr>\n",
       "      <th>mean</th>\n",
       "      <td>8.230000</td>\n",
       "      <td>0.990542</td>\n",
       "      <td>1.011263</td>\n",
       "    </tr>\n",
       "    <tr>\n",
       "      <th>std</th>\n",
       "      <td>0.448666</td>\n",
       "      <td>0.007765</td>\n",
       "      <td>0.008032</td>\n",
       "    </tr>\n",
       "    <tr>\n",
       "      <th>min</th>\n",
       "      <td>7.000000</td>\n",
       "      <td>0.961178</td>\n",
       "      <td>0.986190</td>\n",
       "    </tr>\n",
       "    <tr>\n",
       "      <th>25%</th>\n",
       "      <td>8.000000</td>\n",
       "      <td>0.983005</td>\n",
       "      <td>1.006053</td>\n",
       "    </tr>\n",
       "    <tr>\n",
       "      <th>50%</th>\n",
       "      <td>8.000000</td>\n",
       "      <td>0.990140</td>\n",
       "      <td>1.008636</td>\n",
       "    </tr>\n",
       "    <tr>\n",
       "      <th>75%</th>\n",
       "      <td>8.000000</td>\n",
       "      <td>0.998829</td>\n",
       "      <td>1.017223</td>\n",
       "    </tr>\n",
       "    <tr>\n",
       "      <th>max</th>\n",
       "      <td>9.000000</td>\n",
       "      <td>1.008491</td>\n",
       "      <td>1.033910</td>\n",
       "    </tr>\n",
       "  </tbody>\n",
       "</table>\n",
       "</div>"
      ],
      "text/plain": [
       "                nu           mu          tau\n",
       "count  1000.000000  1000.000000  1000.000000\n",
       "mean      8.230000     0.990542     1.011263\n",
       "std       0.448666     0.007765     0.008032\n",
       "min       7.000000     0.961178     0.986190\n",
       "25%       8.000000     0.983005     1.006053\n",
       "50%       8.000000     0.990140     1.008636\n",
       "75%       8.000000     0.998829     1.017223\n",
       "max       9.000000     1.008491     1.033910"
      ]
     },
     "execution_count": 15,
     "metadata": {},
     "output_type": "execute_result"
    }
   ],
   "source": [
    "samples.describe() # looks good!\n",
    "# HINTS seems tighter than MCMC but need to see whuch is the better _sample_"
   ]
  },
  {
   "cell_type": "code",
   "execution_count": 16,
   "metadata": {
    "tags": []
   },
   "outputs": [
    {
     "data": {
      "image/png": "[encoded data removed]",
      "text/plain": [
       "<Figure size 432x288 with 1 Axes>"
      ]
     },
     "metadata": {
      "needs_background": "light"
     },
     "output_type": "display_data"
    }
   ],
   "source": [
    "# plot the marginal on nu, throwing away the first half of the data (burn in)\n",
    "vc = samples['nu'][500:].value_counts().sort_index()\n",
    "ax = vc.plot(kind='bar')\n",
    "plt.grid()\n",
    "\n",
    "# you can get the true distribution for comparison by running a VERY long MCMC chain on the full dataset\n",
    "# or by exhaustively evaluating (as the parameter space is quite small)"
   ]
  }
 ],
 "metadata": {
  "kernelspec": {
   "display_name": "Python 3",
   "language": "python",
   "name": "python3"
  },
  "language_info": {
   "codemirror_mode": {
    "name": "ipython",
    "version": 3
   },
   "file_extension": ".py",
   "mimetype": "text/x-python",
   "name": "python",
   "nbconvert_exporter": "python",
   "pygments_lexer": "ipython3",
   "version": "3.7.16"
  }
 },
 "nbformat": 4,
 "nbformat_minor": 4
}
