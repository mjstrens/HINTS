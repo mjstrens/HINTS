{
 "cells": [
  {
   "cell_type": "code",
   "execution_count": 1,
   "metadata": {},
   "outputs": [],
   "source": [
    "# HINTS with numpy\n",
    "#%load_ext line_profiler\n",
    "import numpy as np\n",
    "from HINTS import *\n",
    "from HINTS_fn import *\n",
    "\n",
    "%matplotlib inline\n",
    "import matplotlib.pyplot as plt # just for testing"
   ]
  },
  {
   "cell_type": "markdown",
   "metadata": {},
   "source": [
    "# Student t distribution\n",
    "\n",
    "- overview https://en.wikipedia.org/wiki/Student%27s_t-distribution\n",
    "- log likelihood in scipy https://math.stackexchange.com/questions/3201571/log-likelihood-function-of-the-noncentral-t-distribution\n",
    "\n",
    "A 'non-standard' or 'location-scale' t distribution has the following params:\n",
    "\n",
    "- &nu; (int >=1) degrees of freedom\n",
    "- &mu; mean & mode\n",
    "- &tau; scale parameter\n",
    "\n"
   ]
  },
  {
   "cell_type": "code",
   "execution_count": 2,
   "metadata": {
    "tags": []
   },
   "outputs": [
    {
     "name": "stdout",
     "output_type": "stream",
     "text": [
      "0.9814854860552614  should approx. equal  1.0\n",
      "1.305987317203713  should approx. equal  1.2909944487358056\n"
     ]
    },
    {
     "data": {
      "image/png": "[encoded data removed]",
      "text/plain": [
       "<Figure size 432x288 with 1 Axes>"
      ]
     },
     "metadata": {
      "needs_background": "light"
     },
     "output_type": "display_data"
    }
   ],
   "source": [
    "# generate some example data in numpy\n",
    "mu = 1.0\n",
    "tau = 1.0 # not the same as sigma because the standard t has variance nu/(nu-2), if this exists\n",
    "nu = 5\n",
    "\n",
    "eg = mu + np.random.standard_t(nu, size = 10000) * tau\n",
    "\n",
    "print(np.mean(eg), \" should approx. equal \", mu)\n",
    "print(np.std(eg), \" should approx. equal \", np.sqrt(nu/(nu-2)))\n",
    "\n",
    "counts, bins = np.histogram(eg, bins = 100)\n",
    "_ = plt.hist(bins[:-1], bins, weights=counts)\n",
    "plt.grid() # NB if we make nu smaller we get much fatter tails"
   ]
  },
  {
   "cell_type": "code",
   "execution_count": 3,
   "metadata": {
    "tags": []
   },
   "outputs": [
    {
     "name": "stdout",
     "output_type": "stream",
     "text": [
      "0.9995857097328721  should approx. equal  1.0\n",
      "1.2945879994033558  should approx. equal  1.2909944487358056\n"
     ]
    },
    {
     "data": {
      "image/png": "[encoded data removed]",
      "text/plain": [
       "<Figure size 432x288 with 1 Axes>"
      ]
     },
     "metadata": {
      "needs_background": "light"
     },
     "output_type": "display_data"
    }
   ],
   "source": [
    "# scipy\n",
    "\n",
    "from scipy.stats import t # non central t\n",
    "\n",
    "eg2 = t.rvs(nu, loc = mu, scale = tau, size = 100000)\n",
    "\n",
    "print(np.mean(eg2), \" should approx. equal \", mu)\n",
    "print(np.std(eg2), \" should approx. equal \", np.sqrt(nu/(nu-2)))\n",
    "\n",
    "counts2, bins2 = np.histogram(eg2, bins = 100)\n",
    "_ = plt.hist(bins2[:-1], bins2, weights=counts2)\n",
    "plt.grid() # NB if we make nu smaller we get much fatter tails\n",
    "\n",
    "# all looks fine"
   ]
  },
  {
   "cell_type": "code",
   "execution_count": 4,
   "metadata": {
    "tags": []
   },
   "outputs": [
    {
     "name": "stdout",
     "output_type": "stream",
     "text": [
      "5\n",
      "-1.6304093377768762\n",
      "-1.641982350729272\n",
      "-1.6343822307229525\n",
      "-1.9883130144381138\n",
      "-1.8734211236627718\n",
      "-1.9837899826866092\n"
     ]
    }
   ],
   "source": [
    "# log likelihood example (it's not very sensitive to dof!)\n",
    "print(nu)\n",
    "print(t(nu, loc = mu, scale = tau).logpdf(eg2).mean()) # actual\n",
    "print(t(nu-2, loc = mu, scale = tau).logpdf(eg2).mean()) #different - should be lower\n",
    "print(t(nu+2, loc = mu, scale = tau).logpdf(eg2).mean()) #different - should be lower\n",
    "print(t(nu, loc = mu - 1.0, scale = tau).logpdf(eg2).mean()) #different - should be lower\n",
    "print(t(nu, loc = mu, scale = tau * 2.0).logpdf(eg2).mean()) #different - should be lower\n",
    "print(t(nu, loc = mu, scale = tau / 2.0).logpdf(eg2).mean()) #different - should be lower\n"
   ]
  },
  {
   "cell_type": "code",
   "execution_count": 5,
   "metadata": {
    "tags": []
   },
   "outputs": [
    {
     "name": "stdout",
     "output_type": "stream",
     "text": [
      "690 µs ± 17.4 µs per loop (mean ± std. dev. of 7 runs, 1000 loops each)\n",
      "963 µs ± 19.1 µs per loop (mean ± std. dev. of 7 runs, 1000 loops each)\n",
      "1.13 ms ± 28.1 µs per loop (mean ± std. dev. of 7 runs, 1000 loops each)\n"
     ]
    }
   ],
   "source": [
    "%timeit t(nu, mu, tau) #656 micros  SCIPY is slow to construct objects\n",
    "%timeit t(nu, mu, tau).logpdf(eg2[:1]) # 905 micros\n",
    "%timeit t(nu, mu, tau).logpdf(eg2[:1000]) #1070 micros "
   ]
  },
  {
   "cell_type": "code",
   "execution_count": 6,
   "metadata": {
    "tags": []
   },
   "outputs": [
    {
     "name": "stdout",
     "output_type": "stream",
     "text": [
      "Student t state variable: nu = 5,  mu = 1.000, tau = 1.000\n",
      "-1.6304093377768762\n",
      "Student t state variable: nu = 6,  mu = 1.078, tau = 0.983\n"
     ]
    }
   ],
   "source": [
    "# state and proposal\n",
    "# NB make sure the state is hashable so the cache works\n",
    "from scipy.stats import t\n",
    "from numpy.random import seed, randn, rand, randint, shuffle\n",
    "\n",
    "class StateT:\n",
    "    def __init__(self, nu, mu = 0.0, tau = 1.0):\n",
    "        self.nu = nu\n",
    "        self.mu = mu\n",
    "        self.tau = tau\n",
    "        self.distrib = t(self.nu, loc = self.mu, scale = self.tau)\n",
    "    def log_like(self, xs):\n",
    "        return(self.distrib.logpdf(xs).sum())\n",
    "    def __str__(self):\n",
    "        return(\"Student t state variable: nu = {},  mu = {:.3f}, tau = {:.3f}\".format(self.nu, self.mu, self.tau))\n",
    "\n",
    "\n",
    "def proposalT(state, index=0): # index is not used here but the arg must be listed for HINTS\n",
    "    new_nu = state.nu + randint(-1,+2) # displace by -1, 0 or 1\n",
    "    new_mu = state.mu + 0.05 * randn()\n",
    "    new_tau = state.tau * np.exp(0.05 * randn()) # random walk on log value    \n",
    "    if new_nu == 0: # reflecting barrier at 1 d.o.f.\n",
    "        new_nu = 2\n",
    "    return(StateT(new_nu, new_mu, new_tau), 0.0) # construct a new state; symmetrical so Hastings correction (delta) is zero\n",
    "\n",
    "\n",
    "x1 = StateT(nu, mu, tau)\n",
    "print(x1)\n",
    "print(x1.log_like(eg2)/len(eg2)) # should be same as above\n",
    "\n",
    "print(proposalT(x1)[0])\n"
   ]
  },
  {
   "cell_type": "code",
   "execution_count": 7,
   "metadata": {
    "tags": []
   },
   "outputs": [
    {
     "name": "stdout",
     "output_type": "stream",
     "text": [
      "(256, 1024)\n",
      "Wall time: 101 ms\n",
      "Wall time: 0 ns\n"
     ]
    },
    {
     "data": {
      "text/plain": [
       "-1.6286272692769563"
      ]
     },
     "execution_count": 7,
     "metadata": {},
     "output_type": "execute_result"
    }
   ],
   "source": [
    "# create the user function for HINTS to work with this\n",
    "from functools import lru_cache\n",
    "from HINTS_fn_simple import *  # will be much faster with vector evals due to scipy overheads\n",
    "\n",
    "# Simple test function: Gaussian with per term bias\n",
    "class TestFnT_OLD(UserFnSimple):\n",
    "    def __init__(self, data):\n",
    "        self.N = len(data)\n",
    "        self.data = data\n",
    "        super().__init__(proposalT)\n",
    "        #\n",
    "    def sample_initial_state(self):\n",
    "        return(StateT(5, 0.0, 1.0)) # start with 5 dof\n",
    "        #\n",
    "    def evaluate_sequence(self, state, term_index, num_terms):\n",
    "        return(self.cached_eval_sequence_fast(state, term_index, num_terms))\n",
    "        #\n",
    "    @lru_cache(maxsize = 1000000)    \n",
    "    def cached_eval_sequence_fast(self, state, term_index, num_terms):\n",
    "        #print(\"cache miss; evaluating \", term_index, num_terms)\n",
    "        self.counter += num_terms\n",
    "        return(state.log_like(self.data[term_index:term_index+num_terms]).sum())\n",
    "\n",
    "# version that takes 2D data of size NUM_SCENARIOS x LEAF_SIZE\n",
    "class TestFnT(UserFn):\n",
    "    def __init__(self, data):\n",
    "        self.N = data.shape[0]\n",
    "        self.per_lead = data.shape[1]\n",
    "        self.data = data\n",
    "        super().__init__(proposalT)\n",
    "        #\n",
    "    def sample_initial_state(self):\n",
    "        return(StateT(5, 0.0, 1.0)) # start with 5 dof\n",
    "        #\n",
    "    def evaluate(self, state, term_index, with_gradient = False):\n",
    "        return(self.cached_eval_fast(state, term_index))\n",
    "        #\n",
    "    @lru_cache(maxsize = 1000000)    \n",
    "    def cached_eval_fast(self, state, term_index):\n",
    "        self.counter += 1\n",
    "        return(state.log_like(self.data[term_index]).sum())\n",
    "\n",
    "    \n",
    "NUM_SCENARIOS = 256\n",
    "LEAF_SIZE = 1024 ## vectorise at leaves for speed\n",
    "data = t.rvs(nu, loc = mu, scale = tau, size = [NUM_SCENARIOS, LEAF_SIZE])\n",
    "print(data.shape)\n",
    "fn = TestFnT(data)\n",
    "\n",
    "%time fn(x1, list(range(NUM_SCENARIOS)))/(NUM_SCENARIOS * LEAF_SIZE) # check we get the right log likelihood\n",
    "%time fn(x1, list(range(NUM_SCENARIOS)))/(NUM_SCENARIOS * LEAF_SIZE)# run again to check cache is working\n"
   ]
  },
  {
   "cell_type": "code",
   "execution_count": 17,
   "metadata": {},
   "outputs": [
    {
     "name": "stdout",
     "output_type": "stream",
     "text": [
      "256\n",
      "{'levels': 4, 'design': array([1, 4, 4, 4, 4]), 'additive': True, 'T': 1.0, 'dT': 0.0}\n"
     ]
    }
   ],
   "source": [
    "import argparse\n",
    "parser = argparse.ArgumentParser()\n",
    "args = parser.parse_known_args()[0] # defaults\n",
    "\n",
    "if True: # put True in for HINTS, False for simple MCMC where evaluations use all data\n",
    "    args.levels = 4\n",
    "    log_branch_factor = 2\n",
    "    N_0 = 1\n",
    "    args.design = np.array([N_0] + [2 ** log_branch_factor for l in range(args.levels)])\n",
    "    NUM_SCENARIOS = N_0 * 2 ** (args.levels * log_branch_factor) # TO DO get from HINTS\n",
    "    iterations = 1000\n",
    "else: #MCMC\n",
    "    args.levels = 0\n",
    "    NUM_SCENARIOS = 256\n",
    "    args.design = np.array([NUM_SCENARIOS])\n",
    "    iterations = 2000 # TO DO need to match actual evaluations (taking account of reuse in cache)\n",
    "\n",
    "print(NUM_SCENARIOS)\n",
    "\n",
    "# design now has levels + 1 entries\n",
    "args.additive = True # natural for lok likelihoods in Bayesian inference\n",
    "args.T = 1.0 #top level\n",
    "args.dT = 0.0\n",
    "\n",
    "print(args.__dict__)"
   ]
  },
  {
   "cell_type": "code",
   "execution_count": 18,
   "metadata": {},
   "outputs": [
    {
     "name": "stdout",
     "output_type": "stream",
     "text": [
      "RESET\n",
      "4\n",
      "[  1   4  16  64 256]\n",
      "256\n",
      "[1. 1. 1. 1. 1.]\n",
      "Student t state variable: nu = 5,  mu = 0.000, tau = 1.000\n"
     ]
    }
   ],
   "source": [
    "data = t.rvs(nu, loc = mu, scale = tau, size = [NUM_SCENARIOS, LEAF_SIZE])\n",
    "g = TestFnT(data)\n",
    "hmc = HINTS(args, g)\n",
    "state  = g.sample_initial_state()\n",
    "print(state)\n"
   ]
  },
  {
   "cell_type": "code",
   "execution_count": 19,
   "metadata": {},
   "outputs": [
    {
     "name": "stdout",
     "output_type": "stream",
     "text": [
      "100 [7777 2569 1075  313   84] [17823  3831   525    87    16] 256000 63538\n",
      "200 [15738  5083  2131   643   177] [35462  7717  1069   157    23] 512000 123356\n",
      "300 [23500  7680  3179   970   255] [53300 11520  1621   230    45] 768000 189382\n",
      "400 [31495 10217  4228  1305   342] [70905 15383  2172   295    58] 1024000 250363\n",
      "500 [39307 12756  5285  1633   428] [88693 19244  2715   367    72] 1280000 312704\n",
      "600 [47183 15314  6354  1967   516] [106417  23086   3246    433     84] 1536000 374608\n",
      "700 [54947 17917  7414  2306   600] [124253  26883   3786    494    100] 1792000 436604\n",
      "800 [62792 20527  8464  2643   685] [142008  30673   4336    557    115] 2048000 498504\n",
      "900 [70527 23089  9518  2993   773] [159873  34511   4882    607    127] 2304000 558788\n",
      "1000 [78261 25656 10599  3328   858] [177739  38344   5401    672    142] 2560000 619771\n"
     ]
    }
   ],
   "source": [
    "\n",
    "# do not use t as a variable name!!\n",
    "history = []\n",
    "for tstep in range(iterations):\n",
    "    hmc.shuffle()\n",
    "    state, correction = hmc.hints(state, args.levels) # e.g. dbg = (t==0)\n",
    "    # show progress\n",
    "    if ((tstep%100)==99):\n",
    "        print(tstep+1, hmc.acceptances, hmc.rejections, hmc.fn.total_counter, hmc.fn.counter)\n",
    "    #\n",
    "    history.append({'nu':state.nu, 'mu':state.mu, 'tau':state.tau})"
   ]
  },
  {
   "cell_type": "code",
   "execution_count": 20,
   "metadata": {},
   "outputs": [
    {
     "name": "stdout",
     "output_type": "stream",
     "text": [
      "[78261 25656 10599  3328   858]\n",
      "[177739  38344   5401    672    142]\n",
      "[0.30570703 0.400875   0.6624375  0.832      0.858     ]\n"
     ]
    }
   ],
   "source": [
    "# acceptance statistics at each level in the tree\n",
    "print(hmc.acceptances)\n",
    "print(hmc.rejections)\n",
    "print(hmc.acceptances / (hmc.acceptances + hmc.rejections))"
   ]
  },
  {
   "cell_type": "code",
   "execution_count": 21,
   "metadata": {},
   "outputs": [
    {
     "name": "stdout",
     "output_type": "stream",
     "text": [
      "Calls: 2,560,000; Missed cache: 619,771; Miss rate: 24%\n"
     ]
    }
   ],
   "source": [
    "print('Calls: {:,}; '.format(g.total_counter) + 'Missed cache: {:,}; '.format(g.counter) + 'Miss rate: {}%'.format(int((100.0 * g.counter)/g.total_counter)))\n",
    "# HINTS gives you fewwer samples but each is better mixed\n",
    "# which is fine if you are going to marginalise \n"
   ]
  },
  {
   "cell_type": "code",
   "execution_count": 22,
   "metadata": {},
   "outputs": [],
   "source": [
    "import pandas as pd\n",
    "samples = pd.DataFrame(history)"
   ]
  },
  {
   "cell_type": "code",
   "execution_count": 23,
   "metadata": {
    "tags": []
   },
   "outputs": [
    {
     "data": {
      "text/html": [
       "<div>\n",
       "<style scoped>\n",
       "    .dataframe tbody tr th:only-of-type {\n",
       "        vertical-align: middle;\n",
       "    }\n",
       "\n",
       "    .dataframe tbody tr th {\n",
       "        vertical-align: top;\n",
       "    }\n",
       "\n",
       "    .dataframe thead th {\n",
       "        text-align: right;\n",
       "    }\n",
       "</style>\n",
       "<table border=\"1\" class=\"dataframe\">\n",
       "  <thead>\n",
       "    <tr style=\"text-align: right;\">\n",
       "      <th></th>\n",
       "      <th>nu</th>\n",
       "      <th>mu</th>\n",
       "      <th>tau</th>\n",
       "    </tr>\n",
       "  </thead>\n",
       "  <tbody>\n",
       "    <tr>\n",
       "      <th>count</th>\n",
       "      <td>1000.0</td>\n",
       "      <td>1000.000000</td>\n",
       "      <td>1000.000000</td>\n",
       "    </tr>\n",
       "    <tr>\n",
       "      <th>mean</th>\n",
       "      <td>5.0</td>\n",
       "      <td>1.000671</td>\n",
       "      <td>0.999643</td>\n",
       "    </tr>\n",
       "    <tr>\n",
       "      <th>std</th>\n",
       "      <td>0.0</td>\n",
       "      <td>0.002482</td>\n",
       "      <td>0.001657</td>\n",
       "    </tr>\n",
       "    <tr>\n",
       "      <th>min</th>\n",
       "      <td>5.0</td>\n",
       "      <td>0.995433</td>\n",
       "      <td>0.990940</td>\n",
       "    </tr>\n",
       "    <tr>\n",
       "      <th>25%</th>\n",
       "      <td>5.0</td>\n",
       "      <td>0.998633</td>\n",
       "      <td>0.998517</td>\n",
       "    </tr>\n",
       "    <tr>\n",
       "      <th>50%</th>\n",
       "      <td>5.0</td>\n",
       "      <td>0.999970</td>\n",
       "      <td>0.999325</td>\n",
       "    </tr>\n",
       "    <tr>\n",
       "      <th>75%</th>\n",
       "      <td>5.0</td>\n",
       "      <td>1.003416</td>\n",
       "      <td>1.000242</td>\n",
       "    </tr>\n",
       "    <tr>\n",
       "      <th>max</th>\n",
       "      <td>5.0</td>\n",
       "      <td>1.006852</td>\n",
       "      <td>1.011447</td>\n",
       "    </tr>\n",
       "  </tbody>\n",
       "</table>\n",
       "</div>"
      ],
      "text/plain": [
       "           nu           mu          tau\n",
       "count  1000.0  1000.000000  1000.000000\n",
       "mean      5.0     1.000671     0.999643\n",
       "std       0.0     0.002482     0.001657\n",
       "min       5.0     0.995433     0.990940\n",
       "25%       5.0     0.998633     0.998517\n",
       "50%       5.0     0.999970     0.999325\n",
       "75%       5.0     1.003416     1.000242\n",
       "max       5.0     1.006852     1.011447"
      ]
     },
     "execution_count": 23,
     "metadata": {},
     "output_type": "execute_result"
    }
   ],
   "source": [
    "samples.describe() # looks good!\n",
    "# HINTS seems tighter than MCMC but need to see whuch is the better _sample_"
   ]
  },
  {
   "cell_type": "code",
   "execution_count": null,
   "metadata": {},
   "outputs": [],
   "source": []
  }
 ],
 "metadata": {
  "kernelspec": {
   "display_name": "Python 3",
   "language": "python",
   "name": "python3"
  },
  "language_info": {
   "codemirror_mode": {
    "name": "ipython",
    "version": 3
   },
   "file_extension": ".py",
   "mimetype": "text/x-python",
   "name": "python",
   "nbconvert_exporter": "python",
   "pygments_lexer": "ipython3",
   "version": "3.7.16"
  }
 },
 "nbformat": 4,
 "nbformat_minor": 4
}
