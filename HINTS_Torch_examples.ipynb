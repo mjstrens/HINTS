{
 "cells": [
  {
   "cell_type": "code",
   "execution_count": 1,
   "metadata": {
    "tags": []
   },
   "outputs": [],
   "source": [
    "%load_ext autoreload\n",
    "\n",
    "%autoreload 2"
   ]
  },
  {
   "cell_type": "code",
   "execution_count": 2,
   "metadata": {
    "tags": []
   },
   "outputs": [],
   "source": [
    "# gradient based (Langevin or Hamiltonian) HINTS\n",
    "\n",
    "import torch\n",
    "from torch.autograd import Variable\n",
    "import torchvision.transforms as transforms\n",
    "import torchvision.datasets as dsets\n",
    "from torch.nn import functional as F\n",
    "\n",
    "from HINTS_fn import *\n",
    "from HINTS_torch import *\n",
    "\n",
    "torch.set_default_dtype(torch.float64)\n",
    "device = 'cpu'\n",
    "\n",
    "import matplotlib.pyplot as plt"
   ]
  },
  {
   "cell_type": "markdown",
   "metadata": {
    "tags": []
   },
   "source": [
    "### first test on a simple case to check it is unbiased\n",
    "\n",
    "- a linear regression with squared errors has a Gaussian posterior\n",
    "- so we can sample the weights of the linear regression\n",
    "- (for the weights to be correlated requires that the input x values are correlated)\n",
    "\n",
    "\n",
    "\n",
    "\n"
   ]
  },
  {
   "cell_type": "code",
   "execution_count": 3,
   "metadata": {
    "tags": []
   },
   "outputs": [
    {
     "data": {
      "text/plain": [
       "tensor([-0.8949,  2.6543,  0.1005], grad_fn=<MvBackward0>)"
      ]
     },
     "execution_count": 3,
     "metadata": {},
     "output_type": "execute_result"
    }
   ],
   "source": [
    "# simple (dot product) linear model .. no constant term but you could fix one of the input features to 1 to achive that\n",
    "class LinearScalar(torch.nn.Module):\n",
    "    def __init__(self, c):\n",
    "        super(LinearScalar, self).__init__()\n",
    "        self.mu = torch.nn.Parameter(c)\n",
    "    # log density\n",
    "    def forward(self, xs):\n",
    "        return(torch.mv(xs, self.mu))\n",
    "\n",
    "# eg\n",
    "l1 = LinearScalar(torch.tensor([1.0, 2.0]))\n",
    "l1(torch.randn([3,2]))\n",
    "\n"
   ]
  },
  {
   "cell_type": "code",
   "execution_count": 4,
   "metadata": {
    "tags": []
   },
   "outputs": [],
   "source": [
    "# linear model with scalar output\n",
    "class TorchLinearScalar(UserFn):\n",
    "        def __init__(self, xs, ys, batch_size = 1, additive = True):\n",
    "            self.xs = xs\n",
    "            self.ys = ys\n",
    "            self.batch_size = batch_size\n",
    "            N_scenarios = xs.shape[0]\n",
    "            self.input_dim = xs.shape[1]\n",
    "            self.output_dim = 1\n",
    "            self.N = N_scenarios//self.batch_size # num scenarios\n",
    "            print(self.input_dim, N_scenarios, batch_size, self.N)\n",
    "            self.lr = 0.001 # TO DO pass this parameter\n",
    "            self.additive = additive # used by HINTS\n",
    "            self.criterion = torch.nn.MSELoss(reduction = 'sum')\n",
    "            super().__init__(None)\n",
    "        #\n",
    "        def sample_initial_state(self):\n",
    "            model = LinearScalar(torch.zeros([self.input_dim])).to(device)\n",
    "            return(model)\n",
    "        #    \n",
    "        @lru_cache(maxsize = 1000000)\n",
    "        def evaluate(self, state, term_index, gradient = False):\n",
    "            #self.calls.append((hash(self), hash(state), hash(term_index), hash(gradient)))\n",
    "            self.counter += 1\n",
    "            if gradient:\n",
    "                f = -self.minibatch_loss(state, term_index)\n",
    "                f.backward()\n",
    "            else:\n",
    "                with torch.no_grad():\n",
    "                    f = -self.minibatch_loss(state, term_index)\n",
    "            return(f)\n",
    "        #\n",
    "        # this can be called with or without torch.no_grad\n",
    "        def minibatch_loss(self, model, term_index):\n",
    "            xs = self.xs[term_index * self.batch_size:(term_index + 1) *  self.batch_size]\n",
    "            ys = self.ys[term_index * self.batch_size:(term_index + 1) *  self.batch_size]\n",
    "            outputs = model(xs.to(device))\n",
    "            loss = 0.5 * self.criterion(outputs.cpu(), ys) # NEXT STEP: replace with an evaluate call!!!\n",
    "            return(loss)\n",
    "\n"
   ]
  },
  {
   "cell_type": "code",
   "execution_count": null,
   "metadata": {},
   "outputs": [],
   "source": []
  },
  {
   "cell_type": "code",
   "execution_count": 5,
   "metadata": {
    "tags": []
   },
   "outputs": [
    {
     "name": "stdout",
     "output_type": "stream",
     "text": [
      "2 64 1 64\n",
      "tensor(-0.2368) tensor(-0.9339)\n",
      "tensor(-35.4271) tensor(-225.1013)\n"
     ]
    }
   ],
   "source": [
    "# eg\n",
    "\n",
    "TRUTH = torch.tensor([1.0, 2.0])\n",
    "\n",
    "true_model = LinearScalar(TRUTH)\n",
    "bad_model = LinearScalar(TRUTH-TRUTH)\n",
    "NS = 64 # small dataset so we can do some fast runs\n",
    "\n",
    "\n",
    "xs = torch.randn([NS,2])\n",
    "ys = true_model(xs).detach()\n",
    "ys = ys + torch.randn([NS]) # unit variance\n",
    "# user fn\n",
    "ufn = TorchLinearScalar(xs, ys)\n",
    "print(ufn.evaluate(true_model, 0),ufn.evaluate(bad_model, 0))\n",
    "print(ufn(true_model, list(range(64))), ufn(bad_model, list(range(64)))) # should be bigger numbers (Additive)"
   ]
  },
  {
   "cell_type": "code",
   "execution_count": 6,
   "metadata": {
    "tags": []
   },
   "outputs": [
    {
     "name": "stdout",
     "output_type": "stream",
     "text": [
      "130\n",
      "130\n",
      "130\n",
      "130\n",
      "131\n",
      "132\n"
     ]
    }
   ],
   "source": [
    "# cacheing test\n",
    "print(ufn.counter)\n",
    "ufn.evaluate(true_model, 0)\n",
    "print(ufn.counter)\n",
    "ufn.evaluate(true_model, 0)\n",
    "print(ufn.counter)\n",
    "copy_true_model = true_model # same object\n",
    "ufn.evaluate(copy_true_model, 0)\n",
    "print(ufn.counter)\n",
    "deep_copy_true_model = copy.deepcopy(true_model) # gets new object id\n",
    "ufn.evaluate(deep_copy_true_model, 0)\n",
    "print(ufn.counter)\n",
    "shallow_copy_true_model = copy.copy(true_model) # gets new object id\n",
    "ufn.evaluate(shallow_copy_true_model, 0) # OK too\n",
    "print(ufn.counter)\n",
    "\n"
   ]
  },
  {
   "cell_type": "code",
   "execution_count": 7,
   "metadata": {
    "tags": []
   },
   "outputs": [
    {
     "data": {
      "image/png": "[encoded data removed]",
      "text/plain": [
       "<Figure size 432x288 with 1 Axes>"
      ]
     },
     "metadata": {
      "needs_background": "light"
     },
     "output_type": "display_data"
    }
   ],
   "source": [
    "# check the data (noisy y vs mean prediction)\n",
    "plt.plot(xs[:,0] + 2 * xs[:,1], ys, marker = '.', linestyle = 'none')\n",
    "plt.plot(ys, ys, marker = '.', label = 'y=x')\n",
    "plt.xlim(-10.0, 10.0)\n",
    "plt.ylim(-10.0, 10.0)\n",
    "plt.grid()\n"
   ]
  },
  {
   "cell_type": "code",
   "execution_count": null,
   "metadata": {},
   "outputs": [],
   "source": []
  },
  {
   "cell_type": "code",
   "execution_count": 8,
   "metadata": {
    "tags": []
   },
   "outputs": [
    {
     "name": "stdout",
     "output_type": "stream",
     "text": [
      "0 0.0\n",
      "5 0.12\n",
      "10 0.25\n",
      "15 0.38\n",
      "20 0.5\n",
      "25 0.62\n",
      "30 0.75\n",
      "35 0.88\n",
      "40 1.0\n",
      "45 1.12\n",
      "50 1.25\n",
      "55 1.38\n",
      "60 1.5\n",
      "65 1.62\n",
      "70 1.75\n",
      "75 1.88\n"
     ]
    },
    {
     "data": {
      "text/plain": [
       "<matplotlib.image.AxesImage at 0x1ea43108648>"
      ]
     },
     "execution_count": 8,
     "metadata": {},
     "output_type": "execute_result"
    },
    {
     "data": {
      "image/png": "[encoded data removed]",
      "text/plain": [
       "<Figure size 432x288 with 1 Axes>"
      ]
     },
     "metadata": {
      "needs_background": "light"
     },
     "output_type": "display_data"
    }
   ],
   "source": [
    "import matplotlib.pyplot as plt                       \n",
    "\n",
    "# evaluate likelihood on grid\n",
    "im = np.zeros([80, 80])\n",
    "\n",
    "gxs = np.arange(0.0, 2.0, 0.025)\n",
    "gys = np.arange(1.0, 3.0, 0.025)\n",
    "for xi, x in enumerate(gxs):\n",
    "    if (xi % 5) == 0:\n",
    "        print(xi,round(x,2))\n",
    "    for yi,y in enumerate(gys):\n",
    "        state = LinearScalar(torch.tensor([x,y]))\n",
    "        im[xi,yi] = ufn(state, list(range(64))).item()\n",
    "\n",
    "\n",
    "plt.imshow(np.exp(im - im.max()))"
   ]
  },
  {
   "cell_type": "code",
   "execution_count": 9,
   "metadata": {
    "tags": []
   },
   "outputs": [],
   "source": [
    "# Run MALA HINTS and check unbiased likelihood"
   ]
  },
  {
   "cell_type": "code",
   "execution_count": 44,
   "metadata": {
    "tags": []
   },
   "outputs": [
    {
     "name": "stdout",
     "output_type": "stream",
     "text": [
      "64\n",
      "{'levels': 3, 'design': array([1, 4, 4, 4]), 'additive': True, 'T': 1.0, 'dT': 0.0, 'epsilon': 0.05, 'L': 4}\n"
     ]
    }
   ],
   "source": [
    "import argparse\n",
    "parser = argparse.ArgumentParser()\n",
    "args = parser.parse_known_args()[0] # defaults\n",
    "\n",
    "\n",
    "if True:\n",
    "    args.levels = 3\n",
    "    args.design = np.array([1, 4, 4, 4])\n",
    "    aa = False\n",
    "    sd = 0.1\n",
    "else:\n",
    "    args.levels = 0\n",
    "    args.design = np.array([64])\n",
    "    NUM_SCENARIOS = args.design.prod()\n",
    "    aa = False\n",
    "    sd = 1.0\n",
    "    \n",
    "NUM_SCENARIOS = args.design.prod()\n",
    "\n",
    "print(NUM_SCENARIOS)\n",
    "\n",
    "# design now has levels + 1 entries: so we can give a minibatch size in design[0]\n",
    "# additive log probability is more natural from a Bayesian perspective but both are valid\n",
    "\n",
    "args.additive = True # effectively selects a different temperature structure when False (= average or expectation)\n",
    "\n",
    "args.T = 1.0 #top level\n",
    "args.dT = 0.0 if args.additive else 0.5 # temperature increment by level (mainly for optimisation or averaging structure)\n",
    "args.epsilon = 0.05 # for HMC\n",
    "args.L = 4\n",
    "print(args.__dict__)\n",
    "\n",
    "\n",
    "\n"
   ]
  },
  {
   "cell_type": "code",
   "execution_count": 45,
   "metadata": {
    "tags": []
   },
   "outputs": [
    {
     "name": "stdout",
     "output_type": "stream",
     "text": [
      "0.05\n",
      "2 64 1 64\n",
      "RESET\n",
      "3\n",
      "[ 1  4 16 64]\n",
      "64\n",
      "[1. 1. 1. 1.]\n",
      "[ 1  4 16 64]\n",
      "[0]\n",
      "1\n",
      "0\n",
      "gradient =  tensor([0.6623, 0.1325])\n",
      "initial correction =  -1.2303847641796768\n",
      "momentum =  tensor([ 1.5576, -0.2901])\n",
      "proposal =  tensor([ 0.0779, -0.0145])\n",
      "updated:\n",
      "Parameter containing:\n",
      "tensor([ 0.0779, -0.0145], requires_grad=True)\n",
      "counter 1\n",
      "momentum after second half step =  tensor([ 1.5737, -0.2869])\n",
      "running correction =  tensor(0.0490)\n",
      "l =  0\n",
      "v =  -0.9338928648591354 v_prime =  -0.8848964641916319 vdiff =  0.04899640066750344 correction =  -1.2303847641796768\n",
      "p(accept) =  3.5944146870121165\n",
      "1\n",
      "gradient =  tensor([0.6447, 0.1290])\n",
      "momentum =  tensor([ 1.5898, -0.2837])\n",
      "proposal =  tensor([ 0.1574, -0.0287])\n",
      "updated:\n",
      "Parameter containing:\n",
      "tensor([ 0.1574, -0.0287], requires_grad=True)\n",
      "counter 2\n",
      "momentum after second half step =  tensor([ 1.6055, -0.2805])\n",
      "running correction =  tensor(0.0977)\n",
      "l =  1\n",
      "v =  -0.9338928648591354 v_prime =  -0.8361694294180219 vdiff =  0.0977234354411135 correction =  -1.2303847641796768\n",
      "p(accept) =  3.7738971699942336\n",
      "2\n",
      "gradient =  tensor([0.6267, 0.1254])\n",
      "momentum =  tensor([ 1.6211, -0.2774])\n",
      "proposal =  tensor([ 0.2384, -0.0426])\n",
      "updated:\n",
      "Parameter containing:\n",
      "tensor([ 0.2384, -0.0426], requires_grad=True)\n",
      "counter 3\n",
      "momentum after second half step =  tensor([ 1.6363, -0.2744])\n",
      "running correction =  tensor(0.1460)\n",
      "l =  2\n",
      "v =  -0.9338928648591354 v_prime =  -0.7878307529588905 vdiff =  0.14606211190024487 correction =  -1.2303847641796768\n",
      "p(accept) =  3.9608033707010337\n",
      "3\n",
      "gradient =  tensor([0.6083, 0.1217])\n",
      "momentum =  tensor([ 1.6515, -0.2713])\n",
      "proposal =  tensor([ 0.3210, -0.0561])\n",
      "updated:\n",
      "Parameter containing:\n",
      "tensor([ 0.3210, -0.0561], requires_grad=True)\n",
      "counter 4\n",
      "momentum after second half step =  tensor([ 1.6663, -0.2684])\n",
      "running correction =  tensor(0.1939)\n",
      "l =  3\n",
      "v =  -0.9338928648591354 v_prime =  -0.739998478855836 vdiff =  0.19389438600329933 correction =  0.19386478810541408\n",
      "p(accept) =  1.0000295983359073\n",
      "Parameter containing:\n",
      "tensor([ 0.3210, -0.0561], requires_grad=True) 0.19389438600329933\n"
     ]
    }
   ],
   "source": [
    "# test that we have a true Hamiltonian (as epsilon gets small prob accept tends to 1)\n",
    "# (test for L=1 and L>1)\n",
    "import copy\n",
    "torch.manual_seed(0)\n",
    "args2 = copy.deepcopy(args)\n",
    "#args2.epsilon /= (100 * args.L) # do this to make Hamiltonian more precise\n",
    "print(args2.epsilon)\n",
    "g = TorchLinearScalar(xs, ys)\n",
    "hmc_test = HINTS_HMC(args2, g, noise_sd = 1.0) # noise sd is now ignored\n",
    "state = g.sample_initial_state()\n",
    "print(hmc_test.ns)\n",
    "print(hmc_test.scenarios(0, 0))\n",
    "state, correction = hmc_test.primitive_move(state, index = 0, always_accept = False, verbose =  True)\n",
    "print(state.mu, correction)"
   ]
  },
  {
   "cell_type": "code",
   "execution_count": 46,
   "metadata": {
    "tags": []
   },
   "outputs": [
    {
     "name": "stdout",
     "output_type": "stream",
     "text": [
      "2 64 1 64\n",
      "RESET\n",
      "3\n",
      "[ 1  4 16 64]\n",
      "64\n",
      "[1. 1. 1. 1.]\n",
      "Parameter containing:\n",
      "tensor([0., 0.], requires_grad=True)\n"
     ]
    }
   ],
   "source": [
    "g = TorchLinearScalar(xs, ys)\n",
    "hmc = HINTS_HMC(args, g, noise_sd = sd) # noise sd crucial for acceptance rate (check maths for sd not equal to 1\n",
    "state  = g.sample_initial_state()\n",
    "print(state.mu)"
   ]
  },
  {
   "cell_type": "code",
   "execution_count": 47,
   "metadata": {
    "tags": []
   },
   "outputs": [
    {
     "name": "stdout",
     "output_type": "stream",
     "text": [
      "Iteration:100   Time taken:25.01 [5845 1553  337   61] [555  47  63  39]\n",
      "Parameter containing:\n",
      "tensor([1.3491, 1.9283], requires_grad=True)\n",
      "Iteration:200   Time taken:47.85 [11736  3097   689   126] [1064  103  111   74]\n",
      "Parameter containing:\n",
      "tensor([1.2320, 1.8356], requires_grad=True)\n",
      "Iteration:300   Time taken:70.91 [17665  4646  1030   188] [1535  154  170  112]\n",
      "Parameter containing:\n",
      "tensor([1.1836, 2.0091], requires_grad=True)\n",
      "Iteration:400   Time taken:93.81 [23590  6186  1377   253] [2010  214  223  147]\n",
      "Parameter containing:\n",
      "tensor([1.0121, 2.0310], requires_grad=True)\n",
      "Iteration:500   Time taken:119.55 [29534  7729  1724   302] [2466  271  276  198]\n",
      "Parameter containing:\n",
      "tensor([1.2914, 1.9941], requires_grad=True)\n",
      "Iteration:600   Time taken:145.5 [35513  9262  2077   363] [2887  338  323  237]\n",
      "Parameter containing:\n",
      "tensor([1.2471, 1.6012], requires_grad=True)\n",
      "Iteration:700   Time taken:167.93 [41440 10810  2436   417] [3360  390  364  283]\n",
      "Parameter containing:\n",
      "tensor([1.0637, 2.0138], requires_grad=True)\n",
      "Iteration:800   Time taken:214.2 [47347 12344  2772   490] [3853  456  428  310]\n",
      "Parameter containing:\n",
      "tensor([1.2693, 1.9143], requires_grad=True)\n",
      "Iteration:900   Time taken:236.02 [53258 13900  3108   539] [4342  500  492  361]\n",
      "Parameter containing:\n",
      "tensor([1.0406, 2.1039], requires_grad=True)\n",
      "Iteration:1000   Time taken:261.81 [59205 15447  3448   592] [4795  553  552  408]\n",
      "Parameter containing:\n",
      "tensor([1.2251, 1.7597], requires_grad=True)\n",
      "Iteration:1100   Time taken:286.36 [65102 17006  3802   647] [5298  594  598  453]\n",
      "Parameter containing:\n",
      "tensor([1.1244, 2.0137], requires_grad=True)\n",
      "Iteration:1200   Time taken:313.07 [71010 18555  4153   704] [5790  645  647  496]\n",
      "Parameter containing:\n",
      "tensor([1.3119, 1.8555], requires_grad=True)\n",
      "Iteration:1300   Time taken:340.58 [76960 20102  4506   761] [6240  698  694  539]\n",
      "Parameter containing:\n",
      "tensor([1.3979, 2.0080], requires_grad=True)\n",
      "Iteration:1400   Time taken:365.25 [82889 21656  4867   822] [6711  744  733  578]\n",
      "Parameter containing:\n",
      "tensor([1.2578, 1.9894], requires_grad=True)\n",
      "Iteration:1500   Time taken:388.48 [88828 23196  5208   872] [7172  804  792  628]\n",
      "Parameter containing:\n",
      "tensor([1.2333, 2.0201], requires_grad=True)\n",
      "Iteration:1600   Time taken:411.03 [94716 24755  5559   925] [7684  845  841  675]\n",
      "Parameter containing:\n",
      "tensor([1.5145, 1.7517], requires_grad=True)\n",
      "Iteration:1700   Time taken:438.45 [100600  26310   5915    983] [8200  890  885  717]\n",
      "Parameter containing:\n",
      "tensor([1.2431, 1.8138], requires_grad=True)\n",
      "Iteration:1800   Time taken:460.56 [106486  27869   6258   1044] [8714  931  942  756]\n",
      "Parameter containing:\n",
      "tensor([1.3338, 1.9711], requires_grad=True)\n",
      "Iteration:1900   Time taken:482.2 [112413  29425   6602   1100] [9187  975  998  800]\n",
      "Parameter containing:\n",
      "tensor([1.2879, 2.0747], requires_grad=True)\n",
      "Iteration:2000   Time taken:504.28 [118347  30981   6952   1155] [9653 1019 1048  845]\n",
      "Parameter containing:\n",
      "tensor([1.4852, 2.1080], requires_grad=True)\n",
      "Iteration:2100   Time taken:529.83 [124291  32517   7301   1208] [10109  1083  1099   892]\n",
      "Parameter containing:\n",
      "tensor([1.3540, 2.0118], requires_grad=True)\n",
      "Iteration:2200   Time taken:551.53 [130218  34084   7655   1257] [10582  1116  1145   943]\n",
      "Parameter containing:\n",
      "tensor([1.2899, 1.7585], requires_grad=True)\n",
      "Iteration:2300   Time taken:573.39 [136157  35632   8016   1310] [11043  1168  1184   990]\n",
      "Parameter containing:\n",
      "tensor([0.9370, 1.9628], requires_grad=True)\n",
      "Iteration:2400   Time taken:595.03 [142088  37187   8358   1357] [11512  1213  1242  1043]\n",
      "Parameter containing:\n",
      "tensor([1.0973, 1.9608], requires_grad=True)\n",
      "Iteration:2500   Time taken:632.75 [148022  38732   8709   1411] [11978  1268  1291  1089]\n",
      "Parameter containing:\n",
      "tensor([1.1231, 1.8678], requires_grad=True)\n",
      "Iteration:2600   Time taken:659.39 [153907  40272   9054   1463] [12493  1328  1346  1137]\n",
      "Parameter containing:\n",
      "tensor([1.0461, 1.9987], requires_grad=True)\n",
      "Iteration:2700   Time taken:680.71 [159842  41814   9402   1522] [12958  1386  1398  1178]\n",
      "Parameter containing:\n",
      "tensor([1.1290, 1.8154], requires_grad=True)\n",
      "Iteration:2800   Time taken:702.03 [165761  43366   9760   1575] [13439  1434  1440  1225]\n",
      "Parameter containing:\n",
      "tensor([1.3560, 1.9926], requires_grad=True)\n",
      "Iteration:2900   Time taken:723.56 [171672  44917  10112   1627] [13928  1483  1488  1273]\n",
      "Parameter containing:\n",
      "tensor([1.0197, 2.1918], requires_grad=True)\n",
      "Iteration:3000   Time taken:745.53 [177584  46465  10454   1693] [14416  1535  1546  1307]\n",
      "Parameter containing:\n",
      "tensor([1.2973, 2.1088], requires_grad=True)\n",
      "Iteration:3100   Time taken:770.19 [183514  48021  10809   1759] [14886  1579  1591  1341]\n",
      "Parameter containing:\n",
      "tensor([1.3199, 2.2061], requires_grad=True)\n",
      "Iteration:3200   Time taken:792.25 [189386  49574  11155   1820] [15414  1626  1645  1380]\n",
      "Parameter containing:\n",
      "tensor([1.2639, 1.8153], requires_grad=True)\n",
      "Iteration:3300   Time taken:813.92 [195321  51115  11504   1878] [15879  1685  1696  1422]\n",
      "Parameter containing:\n",
      "tensor([1.0444, 1.8019], requires_grad=True)\n",
      "Iteration:3400   Time taken:835.38 [201261  52666  11849   1932] [16339  1734  1751  1468]\n",
      "Parameter containing:\n",
      "tensor([1.2217, 1.9168], requires_grad=True)\n",
      "Iteration:3500   Time taken:860.37 [207194  54209  12195   1992] [16806  1791  1805  1508]\n",
      "Parameter containing:\n",
      "tensor([1.3556, 1.8228], requires_grad=True)\n",
      "Iteration:3600   Time taken:881.69 [213091  55755  12548   2052] [17309  1845  1852  1548]\n",
      "Parameter containing:\n",
      "tensor([1.4098, 1.6925], requires_grad=True)\n",
      "218277 17691 92.5 %\n",
      "57111 1881 96.81 %\n",
      "12862 1886 87.21 %\n",
      "2106 1581 57.12 %\n"
     ]
    }
   ],
   "source": [
    "t = 0\n",
    "time0 = time.time()\n",
    "now = time0\n",
    "samp = []\n",
    "run_time_mins = 15\n",
    "while (now < (time0 + 60.0 * run_time_mins)):\n",
    "    hmc.shuffle()\n",
    "    #print(t)\n",
    "    #g.evaluate.cache_clear() # risk of revisiting same state and scenario after reject, and gradient not being available\n",
    "    state, correction = hmc.hints(state, args.levels, always_accept = aa) # e.g. dbg = (t==0)\n",
    "    samp.append(state.mu.detach())\n",
    "    t+=1\n",
    "    now = time.time()\n",
    "    if (t%100) == 0:\n",
    "        print(\"Iteration:{}   Time taken:{}\".format(t, round(now - time0, 2)), hmc.acceptances, hmc.rejections)\n",
    "        print(state.mu)\n",
    "\n",
    "# print time per evaluation\n",
    "for (a,r) in zip(hmc.acceptances, hmc.rejections):\n",
    "    print(a,r, round((a * 100)/(a+r), 2), \"%\")\n"
   ]
  },
  {
   "cell_type": "code",
   "execution_count": 48,
   "metadata": {
    "tags": []
   },
   "outputs": [],
   "source": [
    "# scatter the sample\n",
    "allsamp = torch.stack(samp)\n"
   ]
  },
  {
   "cell_type": "code",
   "execution_count": 49,
   "metadata": {
    "tags": []
   },
   "outputs": [
    {
     "name": "stdout",
     "output_type": "stream",
     "text": [
      "3687\n"
     ]
    }
   ],
   "source": [
    "ns = allsamp.shape[0]\n",
    "print(ns)"
   ]
  },
  {
   "cell_type": "code",
   "execution_count": 50,
   "metadata": {
    "tags": []
   },
   "outputs": [
    {
     "data": {
      "text/plain": [
       "Text(0.5, 1.0, 'Zoomed')"
      ]
     },
     "execution_count": 50,
     "metadata": {},
     "output_type": "execute_result"
    },
    {
     "data": {
      "image/png": "[encoded data removed]",
      "text/plain": [
       "<Figure size 432x288 with 1 Axes>"
      ]
     },
     "metadata": {
      "needs_background": "light"
     },
     "output_type": "display_data"
    },
    {
     "data": {
      "image/png": "[encoded data removed]",
      "text/plain": [
       "<Figure size 432x288 with 1 Axes>"
      ]
     },
     "metadata": {
      "needs_background": "light"
     },
     "output_type": "display_data"
    }
   ],
   "source": [
    "plt.plot(allsamp[:ns//2,0].numpy(), allsamp[:ns//2,1].numpy(), alpha = 0.5, marker = '.', label = 'first half of run')\n",
    "plt.plot(allsamp[ns//2:,0].numpy(), allsamp[ns//2:,1].numpy(), alpha = 0.15, marker = '.', label = 'second half of run')\n",
    "plt.grid()\n",
    "plt.title(\"Samples\")\n",
    "\n",
    "plt.figure()\n",
    "next(plt.gca()._get_lines.prop_cycler) \n",
    "plt.plot(allsamp[ns//2:,0].numpy(), allsamp[ns//2:,1].numpy(), alpha = 0.25, marker = '.')\n",
    "plt.grid()\n",
    "plt.title(\"Zoomed\")"
   ]
  },
  {
   "cell_type": "code",
   "execution_count": 51,
   "metadata": {
    "tags": []
   },
   "outputs": [
    {
     "data": {
      "text/plain": [
       "<matplotlib.image.AxesImage at 0x1eb1a7ca348>"
      ]
     },
     "execution_count": 51,
     "metadata": {},
     "output_type": "execute_result"
    },
    {
     "data": {
      "image/png": "[encoded data removed]",
      "text/plain": [
       "<Figure size 432x288 with 1 Axes>"
      ]
     },
     "metadata": {
      "needs_background": "light"
     },
     "output_type": "display_data"
    }
   ],
   "source": [
    "ime = np.exp(im - im.max())\n",
    "plt.imshow(ime)"
   ]
  },
  {
   "cell_type": "code",
   "execution_count": 52,
   "metadata": {
    "tags": []
   },
   "outputs": [
    {
     "data": {
      "image/png": "[encoded data removed]",
      "text/plain": [
       "<Figure size 432x288 with 1 Axes>"
      ]
     },
     "metadata": {
      "needs_background": "light"
     },
     "output_type": "display_data"
    }
   ],
   "source": [
    "exh = ime.sum(axis = 1)\n",
    "exh/=exh.sum()\n",
    "plt.plot(gxs, exh)\n",
    "\n",
    "# get histograms of marginals? compare with MCMC?\n",
    "# or analytical posterior... \n",
    "\n",
    "counts, edges = np.histogram(allsamp[ns//2:,0], bins = gxs)\n",
    "\n",
    "plt.plot(edges[1:], counts/float(np.sum(counts)), marker = '.')\n",
    "plt.grid()\n"
   ]
  },
  {
   "cell_type": "code",
   "execution_count": 53,
   "metadata": {
    "tags": []
   },
   "outputs": [
    {
     "data": {
      "image/png": "[encoded data removed]",
      "text/plain": [
       "<Figure size 432x288 with 1 Axes>"
      ]
     },
     "metadata": {
      "needs_background": "light"
     },
     "output_type": "display_data"
    }
   ],
   "source": [
    "exh = ime.sum(axis = 0)\n",
    "exh/=exh.sum()\n",
    "plt.plot(gys, exh)\n",
    "\n",
    "# get histograms of marginals? compare with MCMC?\n",
    "# or analytical posterior... \n",
    "\n",
    "counts, edges = np.histogram(allsamp[ns//2:,1], bins = gys)\n",
    "\n",
    "plt.plot(edges[1:], counts/float(np.sum(counts)), marker = '.')\n",
    "plt.grid()\n"
   ]
  },
  {
   "cell_type": "markdown",
   "metadata": {},
   "source": [
    "## Original Logistic Regression example (image recognition)"
   ]
  },
  {
   "cell_type": "code",
   "execution_count": 55,
   "metadata": {
    "tags": []
   },
   "outputs": [],
   "source": [
    "# first test PyTorch\n",
    "train_dataset = dsets.MNIST(root='./data', train=True, transform=transforms.ToTensor(), download=True)\n",
    "test_dataset = dsets.MNIST(root='./data', train=False, transform=transforms.ToTensor())\n",
    "batch_size = 100\n",
    "#train_loader = torch.utils.data.DataLoader(dataset=train_dataset, batch_size=batch_size, shuffle=True)\n",
    "test_loader = torch.utils.data.DataLoader(dataset=test_dataset, batch_size=batch_size, shuffle=False)"
   ]
  },
  {
   "cell_type": "code",
   "execution_count": 56,
   "metadata": {
    "tags": []
   },
   "outputs": [],
   "source": [
    "# Example PyTorch model\n",
    "class LogisticRegression(torch.nn.Module):\n",
    "    def __init__(self, input_dim, output_dim):\n",
    "        super(LogisticRegression, self).__init__()\n",
    "        self.linear = torch.nn.Linear(input_dim, output_dim)\n",
    "\n",
    "    def forward(self, x):\n",
    "        outputs = self.linear(x) # pytorch Crossentropy loss takes scores, not logits as inputs\n",
    "        #outputs = F.softmax(self.linear(x), dim = -1) # why better without F.softmax\n",
    "        return outputs "
   ]
  },
  {
   "cell_type": "code",
   "execution_count": 57,
   "metadata": {
    "tags": []
   },
   "outputs": [],
   "source": [
    "# was not worth caching this\n",
    "def get_minibatch(dataset, n, i, input_dim = 784):\n",
    "    lst1, lst2 = zip(*[dataset[ii] for ii in range(i * n, (i+1) * n)])\n",
    "    xs = torch.stack(lst1).view(-1, input_dim)\n",
    "    ys = torch.tensor(lst2)\n",
    "    return(xs, ys)"
   ]
  },
  {
   "cell_type": "code",
   "execution_count": 58,
   "metadata": {
    "tags": []
   },
   "outputs": [
    {
     "name": "stdout",
     "output_type": "stream",
     "text": [
      "600\n",
      "Iteration: 600. Loss: 53.570171. Accuracy: 90.23.\n",
      "Iteration: 1200. Loss: 35.971049. Accuracy: 91.04.\n",
      "Iteration: 1800. Loss: 33.167354. Accuracy: 91.37.\n",
      "Iteration: 2400. Loss: 31.699809. Accuracy: 91.62.\n",
      "Wall time: 54.6 s\n"
     ]
    }
   ],
   "source": [
    "%%time\n",
    "input_dim = 784\n",
    "output_dim = 10\n",
    "\n",
    "# Note we will use a Bayesian model average of (some distribution over) history of sampled class probs in the sampling case\n",
    "criterion = torch.nn.CrossEntropyLoss(reduction = 'sum') # computes softmax and then the cross entropy\n",
    "model = LogisticRegression(input_dim, output_dim)\n",
    "lr_rate = 0.001\n",
    "optimizer = torch.optim.SGD(model.parameters(), lr=lr_rate) # SToch Gdt Descent\n",
    "N = train_dataset.__len__()//batch_size # TO DO: get N from dataset\n",
    "print(N)\n",
    "epochs = 4 #n_iters / (len(train_dataset) / batch_size)\n",
    "i = 0\n",
    "for epoch in range(int(epochs)):\n",
    "    epoch_losses = []\n",
    "    for it in range(N):\n",
    "        optimizer.zero_grad()\n",
    "        images, labels = get_minibatch(train_dataset, batch_size, it)    \n",
    "        outputs = model(images)\n",
    "        loss = criterion(outputs, labels) # NEXT STEP: replace with an evaluate call!!!\n",
    "        optimizer.zero_grad()\n",
    "        loss.backward()\n",
    "        optimizer.step()\n",
    "        epoch_losses.append(loss.detach().item())\n",
    "        i += 1\n",
    "    # end of epoch: calculate Accuracy\n",
    "    correct = 0\n",
    "    total = 0\n",
    "    for images, labels in test_loader:\n",
    "        images = Variable(images.view(-1, 28*28))\n",
    "        outputs = model(images)\n",
    "        # TO DO convert these outputs to probs, to get more accurate Accuracy metric\n",
    "        # and to support historical averaging (e.g. q(n) = p(n) * 2/(n+1) + q(n-1) * (n-1)/(n+1))\n",
    "        _, predicted = torch.max(outputs.data, 1)\n",
    "        total += labels.size(0)\n",
    "        # for gpu, bring the predicted and labels back to cpu fro python operations to work\n",
    "        correct+= (predicted == labels).sum()\n",
    "    accuracy = 100 * float(correct)/total\n",
    "    print(\"Iteration: {}. Loss: {:1f}. Accuracy: {}.\".format(i, torch.tensor(epoch_losses).mean(), accuracy))"
   ]
  },
  {
   "cell_type": "code",
   "execution_count": 59,
   "metadata": {
    "tags": []
   },
   "outputs": [],
   "source": [
    "# Create the user function for HINTS\n",
    "\n",
    "\n",
    "device = 'cuda' if torch.cuda.is_available() else 'cpu' # GPU slightly reduces minibatch wall clock time (100)\n",
    "\n",
    "class TorchMNIST(UserFn):\n",
    "        def __init__(self, additive = True):\n",
    "            self.batch_size = 100 # 60000 dataset size (so will not see many GPU benefits)\n",
    "            self.input_dim = 784\n",
    "            self.output_dim = 10\n",
    "            self.train_dataset = dsets.MNIST(root='./data', train=True, transform=transforms.ToTensor(), download=True)\n",
    "            self.N = self.train_dataset.__len__()//self.batch_size # num scenarios\n",
    "            self.lr = 0.001 # TO DO pass this parameter\n",
    "            self.additive = additive # used by HINTS\n",
    "            print(self.N)\n",
    "            self.criterion = torch.nn.CrossEntropyLoss(reduction = 'sum')\n",
    "            #self.calls = [] # for cache stats\n",
    "            super().__init__(None)\n",
    "        #\n",
    "        def sample_initial_state(self):\n",
    "            model = LogisticRegression(self.input_dim, self.output_dim).to(device)\n",
    "            return(model)\n",
    "        #    \n",
    "        @lru_cache(maxsize = 1000000)\n",
    "        def evaluate(self, state, term_index, gradient = False):\n",
    "            #self.calls.append((hash(self), hash(state), hash(term_index), hash(gradient)))\n",
    "            self.counter += 1\n",
    "            if gradient:\n",
    "                f = -self.minibatch_loss(state, term_index)\n",
    "                f.backward()\n",
    "            else:\n",
    "                with torch.no_grad():\n",
    "                    f = -self.minibatch_loss(state, term_index)\n",
    "            return(f)\n",
    "        #\n",
    "        # this can be called with or without torch.no_grad\n",
    "        def minibatch_loss(self, model, term_index):\n",
    "            images, labels = get_minibatch(self.train_dataset, self.batch_size, term_index)  \n",
    "            outputs = model(images.to(device))\n",
    "            loss = self.criterion(outputs.cpu(), labels) # NEXT STEP: replace with an evaluate call!!!\n",
    "            return(loss)\n",
    "\n"
   ]
  },
  {
   "cell_type": "code",
   "execution_count": 60,
   "metadata": {
    "tags": []
   },
   "outputs": [
    {
     "name": "stdout",
     "output_type": "stream",
     "text": [
      "600\n",
      "Wall time: 20 ms\n",
      "Wall time: 0 ns\n",
      "tensor(-230.0949, grad_fn=<NegBackward0>)\n",
      "torch.Size([10, 784]) torch.Size([10, 784])\n",
      "torch.Size([10]) torch.Size([10])\n"
     ]
    }
   ],
   "source": [
    "# test it   \n",
    "MH = TorchMNIST()\n",
    "state0 = MH.sample_initial_state()\n",
    "state1 = state0\n",
    "%time v = MH.evaluate(state0, 6, True)\n",
    "%time v = MH.evaluate(state1, 6, True) # cached: should be faster\n",
    "print(v)\n",
    "for f in state0.parameters():\n",
    "    print(f.shape, f.grad.shape)"
   ]
  },
  {
   "cell_type": "raw",
   "metadata": {},
   "source": [
    "### Langevin \n",
    "#### this treatment assumes we are trying to minimise ... \n",
    "p ~ N(0,1)\n",
    "p1 = p - eps/2 g(x)\n",
    "x' = x + p1\n",
    "p' = p1 - eps/2 g(x') = p - eps/2 (g(x') + g(x)) = p - eps gbar\n",
    "\n",
    "accept if u < exp(-dH)\n",
    "where dH = f(x') - f(x) + p'^2/2 - p^2/2\n",
    "\n",
    "second term is Hastings correction:\n",
    "p^2 - 2 p eps gbar + eps^2 gbar^2 - p^2 = eps gbar (eps gbar - 2p)\n",
    "\n",
    "in terms of p1: \n",
    "p1^2 - eps p1 g(x') + (eps/2)^2 g(x')^2 - p1^2 - eps p1 g(x) - (eps/2)^2 g(x)^2\n",
    "\n",
    "Alternative would be to include p as part of state (which we'll need to do for HMC anyway)\n",
    "\n"
   ]
  },
  {
   "cell_type": "code",
   "execution_count": 61,
   "metadata": {
    "tags": []
   },
   "outputs": [
    {
     "name": "stdout",
     "output_type": "stream",
     "text": [
      "Iteration: 600. Loss: 53.494258. Accuracy: 90.12.\n",
      "Iteration: 1200. Loss: 35.948849. Accuracy: 90.95.\n",
      "Iteration: 1800. Loss: 33.149333. Accuracy: 91.29.\n",
      "Iteration: 2400. Loss: 31.684898. Accuracy: 91.6.\n",
      "Wall time: 56.8 s\n"
     ]
    }
   ],
   "source": [
    "%%time\n",
    "# MINIBATCH SGD EXAMPLE (no HINTS yet)\n",
    "epochs = 4\n",
    "lr_rate = 0.001\n",
    "model = MH.sample_initial_state()\n",
    "optimizer = torch.optim.SGD(model.parameters(), lr = lr_rate)\n",
    "i = 0\n",
    "for epoch in range(int(epochs)):\n",
    "    epoch_losses = []\n",
    "    for it in range(MH.N):\n",
    "        optimizer.zero_grad()\n",
    "        loss = MH.minibatch_loss(model, it).cpu()\n",
    "        loss.backward()\n",
    "        optimizer.step()\n",
    "        epoch_losses.append(loss.detach().item())\n",
    "        i += 1\n",
    "    # end of epoch: calculate Accuracy\n",
    "    correct = 0\n",
    "    total = 0\n",
    "    for images, labels in test_loader:\n",
    "        images = Variable(images.view(-1, 28*28))\n",
    "        outputs = model(images.to(device)).cpu()\n",
    "        # TO DO convert these outputs to probs, to get more accurate Accuracy metric\n",
    "        # and to support historical averaging (e.g. q(n) = p(n) * 2/(n+1) + q(n-1) * (n-1)/(n+1))\n",
    "        _, predicted = torch.max(outputs.data, 1)\n",
    "        total += labels.size(0)\n",
    "        # for gpu, bring the predicted and labels back to cpu fro python operations to work\n",
    "        correct+= (predicted == labels).sum()\n",
    "    accuracy = 100 * float(correct)/total\n",
    "    print(\"Iteration: {}. Loss: {:1f}. Accuracy: {}.\".format(i, torch.tensor(epoch_losses).mean(), accuracy))\n",
    "\n"
   ]
  },
  {
   "cell_type": "code",
   "execution_count": 97,
   "metadata": {
    "tags": []
   },
   "outputs": [
    {
     "name": "stdout",
     "output_type": "stream",
     "text": [
      "600\n",
      "{'levels': 6, 'design': array([1, 2, 3, 2, 5, 2, 5]), 'additive': True, 'T': 1.0, 'dT': 0.0, 'epsilon': 0.001, 'L': 1}\n",
      "600\n",
      "RESET\n",
      "6\n",
      "[  1   2   6  12  60 120 600]\n",
      "600\n",
      "[1. 1. 1. 1. 1. 1. 1.]\n",
      "LogisticRegression(\n",
      "  (linear): Linear(in_features=784, out_features=10, bias=True)\n",
      ")\n"
     ]
    }
   ],
   "source": [
    "import argparse\n",
    "parser = argparse.ArgumentParser()\n",
    "args = parser.parse_known_args()[0] # defaults\n",
    "\n",
    "\n",
    "if True: # set to True for HINTS\n",
    "    args.levels = 6\n",
    "    log_branch_factor = 1\n",
    "    N_0 = 1\n",
    "    args.design = np.array([1,2,3,2,5,2,5])\n",
    "    NUM_SCENARIOS = args.design.prod()\n",
    "    aa = False\n",
    "    sd = 1.0\n",
    "elif True: # test Langevin MCMC first (or set sd to small value for SGD)\n",
    "    args.levels = 1 \n",
    "    NUM_SCENARIOS = 600 # Langevin / SGD\n",
    "    args.design = np.array([1,NUM_SCENARIOS]) # ensure whole dataset is covered\n",
    "    aa = True # use always_accept flag to get minibatch Langevin (so we actually only have  a 1 level architecture) - TOP LEVEL ALWAYS ACCEPT\n",
    "    sd = 0.001\n",
    "else: # FULL DATASET (not minibatch) Langevin/gradient descent\n",
    "    args.levels = 0 \n",
    "    NUM_SCENARIOS = 600 # 600 for naive mcmc, 1 for SGD\n",
    "    args.design = np.array([NUM_SCENARIOS]) # ensure whole dataset is covered\n",
    "    aa = True # always accept only applies to TOP LEVEL\n",
    "    sd = 0.001\n",
    "    \n",
    "print(NUM_SCENARIOS)\n",
    "\n",
    "# design now has levels + 1 entries: so we can give a minibatch size in design[0]\n",
    "# additive log probability is more natural from a Bayesian perspective but both are valid\n",
    "\n",
    "args.additive = True # effectively selects a different temperature structure when False (= average or expectation)\n",
    "\n",
    "args.T = 1.0 #top level\n",
    "args.dT = 0.0 if args.additive else 0.5 # temperature increment by level (mainly for optimisation or averaging structure)\n",
    "args.epsilon = 0.001 # for HMC\n",
    "args.L = 1 # HMC steps\n",
    "print(args.__dict__)\n",
    "\n",
    "\n",
    "g = TorchMNIST(args.additive)\n",
    "hmc = HINTS_HMC(args, g, noise_sd = sd) # noise sd crucial for acceptance rate (check maths for sd not equal to 1\n",
    "state  = g.sample_initial_state()\n",
    "print(state)\n",
    "\n"
   ]
  },
  {
   "cell_type": "code",
   "execution_count": 98,
   "metadata": {
    "tags": []
   },
   "outputs": [
    {
     "name": "stdout",
     "output_type": "stream",
     "text": [
      "1e-05\n",
      "600\n",
      "RESET\n",
      "6\n",
      "[  1   2   6  12  60 120 600]\n",
      "600\n",
      "[1. 1. 1. 1. 1. 1. 1.]\n",
      "[  1   2   6  12  60 120 600]\n",
      "[0]\n",
      "1\n",
      "0\n",
      "gradient =  tensor([[0., 0., 0.,  ..., 0., 0., 0.],\n",
      "        [0., 0., 0.,  ..., 0., 0., 0.],\n",
      "        [0., 0., 0.,  ..., 0., 0., 0.],\n",
      "        ...,\n",
      "        [0., 0., 0.,  ..., 0., 0., 0.],\n",
      "        [0., 0., 0.,  ..., 0., 0., 0.],\n",
      "        [0., 0., 0.,  ..., 0., 0., 0.]])\n",
      "initial correction =  -3939.285520121741\n",
      "momentum =  tensor([[ 0.1571, -0.0740, -0.3431,  ...,  0.3503,  0.5977, -0.5300],\n",
      "        [ 0.3233,  1.8814,  0.8823,  ..., -0.3382,  0.4039,  0.3145],\n",
      "        [ 0.9249,  0.3335,  1.0188,  ...,  0.6947, -0.3591, -0.0235],\n",
      "        ...,\n",
      "        [-0.0408,  0.4031, -1.5479,  ...,  0.2294, -0.7482, -0.4704],\n",
      "        [-0.0570,  0.7583, -0.2993,  ...,  1.9096,  0.3542,  0.1955],\n",
      "        [ 0.1193,  0.3190,  0.6423,  ..., -0.6517, -0.8339, -1.6995]])\n",
      "proposal =  tensor([[ 0.0336,  0.0148, -0.0029,  ..., -0.0143, -0.0238, -0.0120],\n",
      "        [ 0.0174, -0.0162,  0.0356,  ...,  0.0019, -0.0010,  0.0216],\n",
      "        [-0.0249, -0.0235, -0.0201,  ...,  0.0250,  0.0343,  0.0253],\n",
      "        ...,\n",
      "        [-0.0204, -0.0193, -0.0234,  ..., -0.0137, -0.0295,  0.0215],\n",
      "        [ 0.0299,  0.0057, -0.0076,  ..., -0.0068,  0.0287, -0.0330],\n",
      "        [-0.0176, -0.0224, -0.0031,  ...,  0.0037,  0.0298,  0.0065]])\n",
      "gradient =  tensor([ 1.2344,  5.4022, -4.9935,  1.3548,  1.3765, -4.1573,  2.3321, -1.0013,\n",
      "        -3.8542,  2.3065])\n",
      "initial correction =  -3942.992018694413\n",
      "momentum =  tensor([ 1.4484,  0.4598,  0.8755,  1.5543,  0.7347,  0.4045, -0.3696, -0.0489,\n",
      "         0.0103,  1.0386])\n",
      "proposal =  tensor([ 0.0226,  0.0018, -0.0060, -0.0325, -0.0203,  0.0158,  0.0109, -0.0235,\n",
      "         0.0091,  0.0321])\n",
      "updated:\n",
      "Parameter containing:\n",
      "tensor([[ 0.0336,  0.0148, -0.0029,  ..., -0.0143, -0.0238, -0.0120],\n",
      "        [ 0.0174, -0.0162,  0.0356,  ...,  0.0019, -0.0010,  0.0216],\n",
      "        [-0.0249, -0.0235, -0.0201,  ...,  0.0250,  0.0343,  0.0253],\n",
      "        ...,\n",
      "        [-0.0204, -0.0193, -0.0234,  ..., -0.0137, -0.0295,  0.0215],\n",
      "        [ 0.0299,  0.0057, -0.0076,  ..., -0.0068,  0.0287, -0.0330],\n",
      "        [-0.0176, -0.0224, -0.0031,  ...,  0.0037,  0.0298,  0.0065]],\n",
      "       requires_grad=True)\n",
      "Parameter containing:\n",
      "tensor([ 0.0226,  0.0018, -0.0060, -0.0325, -0.0203,  0.0158,  0.0109, -0.0235,\n",
      "         0.0091,  0.0321], requires_grad=True)\n",
      "counter 1\n",
      "momentum after second half step =  tensor([[ 0.1571, -0.0740, -0.3431,  ...,  0.3503,  0.5977, -0.5300],\n",
      "        [ 0.3233,  1.8814,  0.8823,  ..., -0.3382,  0.4039,  0.3145],\n",
      "        [ 0.9249,  0.3335,  1.0188,  ...,  0.6947, -0.3591, -0.0235],\n",
      "        ...,\n",
      "        [-0.0408,  0.4031, -1.5479,  ...,  0.2294, -0.7482, -0.4704],\n",
      "        [-0.0570,  0.7583, -0.2993,  ...,  1.9096,  0.3542,  0.1955],\n",
      "        [ 0.1193,  0.3190,  0.6423,  ..., -0.6517, -0.8339, -1.6995]])\n",
      "momentum after second half step =  tensor([ 1.4485,  0.4599,  0.8755,  1.5543,  0.7347,  0.4045, -0.3696, -0.0489,\n",
      "         0.0102,  1.0386])\n",
      "l =  0\n",
      "v =  -231.30937586615462 v_prime =  -231.30920696928803 vdiff =  0.0001688968665973789 correction =  0.00016889686884802302\n",
      "p(accept) =  0.9999999999977494\n",
      "0.0001688968665973789\n"
     ]
    }
   ],
   "source": [
    "# test that we have a true Hamiltonian (as epsilon gets small prob accept tends to 1)\n",
    "# (test for L=1 and L>1)\n",
    "import copy\n",
    "torch.manual_seed(0)\n",
    "args2 = copy.deepcopy(args)\n",
    "args2.epsilon /= (100 * args.L) # do this to make Hamiltonian more precise\n",
    "print(args2.epsilon)\n",
    "g = TorchMNIST(args.additive)\n",
    "hmc_test = HINTS_HMC(args2, g, noise_sd = 1.0) # noise sd is now ignored\n",
    "state = g.sample_initial_state()\n",
    "print(hmc_test.ns)\n",
    "print(hmc_test.scenarios(0, 0))\n",
    "state, correction = hmc_test.primitive_move(state, index = 0, always_accept = False, verbose =  True)\n",
    "print(correction)"
   ]
  },
  {
   "cell_type": "code",
   "execution_count": 99,
   "metadata": {
    "tags": []
   },
   "outputs": [
    {
     "name": "stdout",
     "output_type": "stream",
     "text": [
      "1717675771.2967598\n",
      "0\n",
      "Iteration: 1. Train time:123.78. Test time:1.83. Noisy loss: 220.54. Accuracy: 17.34. [579 278  81  41  10   5   1] [21 22 19  9  0  0  0]\n",
      "1\n",
      "Iteration: 2. Train time:111.38. Test time:1.82. Noisy loss: 218.26. Accuracy: 25.7. [1165  558  167   83   20   10    2] [35 42 33 17  0  0  0]\n",
      "2\n",
      "Iteration: 3. Train time:117.28. Test time:1.92. Noisy loss: 205.11. Accuracy: 34.32. [1740  839  253  127   29   15    3] [60 61 47 23  1  0  0]\n",
      "3\n",
      "Iteration: 4. Train time:113.68. Test time:1.83. Noisy loss: 193.44. Accuracy: 40.04. [2330 1119  332  164   38   20    4] [70 81 68 36  2  0  0]\n",
      "4\n",
      "Iteration: 5. Train time:114.25. Test time:1.9. Noisy loss: 189.83. Accuracy: 47.26. [2911 1399  412  207   48   25    5] [ 89 101  88  43   2   0   0]\n",
      "5\n",
      "Iteration: 6. Train time:119.83. Test time:1.95. Noisy loss: 193.87. Accuracy: 51.31. [3493 1682  496  254   58   30    6] [107 118 104  46   2   0   0]\n",
      "6\n",
      "Iteration: 7. Train time:117.0. Test time:1.96. Noisy loss: 183.4. Accuracy: 54.4. [4081 1966  582  297   68   35    7] [119 134 118  53   2   0   0]\n",
      "7\n",
      "Iteration: 8. Train time:115.12. Test time:1.87. Noisy loss: 160.77. Accuracy: 58.2. [4665 2251  663  344   78   40    8] [135 149 137  56   2   0   0]\n",
      "8\n",
      "Iteration: 9. Train time:110.37. Test time:1.84. Noisy loss: 155.48. Accuracy: 59.6. [5241 2536  746  384   86   45    9] [159 164 154  66   4   0   0]\n",
      "9\n",
      "Iteration: 10. Train time:109.59. Test time:1.85. Noisy loss: 161.1. Accuracy: 60.94. [5824 2816  823  424   94   50   10] [176 184 177  76   6   0   0]\n",
      "10\n",
      "Iteration: 11. Train time:110.97. Test time:1.94. Noisy loss: 167.3. Accuracy: 62.4. [6408 3105  907  463  102   55   11] [192 195 193  87   8   0   0]\n",
      "11\n",
      "Iteration: 12. Train time:115.39. Test time:1.85. Noisy loss: 151.64. Accuracy: 64.13. [6996 3393  988  509  112   60   12] [204 207 212  91   8   0   0]\n",
      "12\n",
      "Iteration: 13. Train time:109.36. Test time:1.86. Noisy loss: 148.9. Accuracy: 66.29. [7583 3683 1068  545  120   65   13] [217 217 232 105  10   0   0]\n",
      "13\n",
      "Iteration: 14. Train time:113.79. Test time:1.9. Noisy loss: 131.04. Accuracy: 66.41. [8168 3968 1154  587  130   70   14] [232 232 246 113  10   0   0]\n",
      "14\n",
      "Iteration: 15. Train time:113.51. Test time:1.9. Noisy loss: 134.18. Accuracy: 66.33. [8757 4252 1231  627  138   75   15] [243 248 269 123  12   0   0]\n",
      "15\n",
      "Iteration: 16. Train time:113.7. Test time:1.88. Noisy loss: 134.77. Accuracy: 67.71. [9347 4535 1311  667  148   80   16] [253 265 289 133  12   0   0]\n",
      "16\n",
      "Iteration: 17. Train time:113.94. Test time:1.94. Noisy loss: 117.88. Accuracy: 68.32. [9934 4823 1396  704  157   85   17] [266 277 304 146  13   0   0]\n",
      "17\n",
      "Iteration: 18. Train time:114.63. Test time:1.93. Noisy loss: 110.29. Accuracy: 69.18. [10522  5108  1475   747   167    90    18] [278 292 325 153  13   0   0]\n",
      "18\n",
      "Iteration: 19. Train time:115.99. Test time:1.88. Noisy loss: 119.01. Accuracy: 70.19. [11110  5396  1558   794   177    95    19] [290 304 342 156  13   0   0]\n",
      "19\n",
      "Iteration: 20. Train time:113.52. Test time:1.86. Noisy loss: 113.97. Accuracy: 71.29. [11693  5679  1642   836   187   100    20] [307 321 358 164  13   0   0]\n",
      "20\n",
      "Iteration: 21. Train time:109.45. Test time:1.9. Noisy loss: 103.69. Accuracy: 71.87. [12288  5965  1721   875   194   105    21] [312 335 379 175  16   0   0]\n",
      "21\n",
      "Iteration: 22. Train time:116.02. Test time:1.91. Noisy loss: 90.08. Accuracy: 72.61. [12879  6255  1801   920   203   110    22] [321 345 399 180  17   0   0]\n",
      "22\n",
      "Iteration: 23. Train time:106.59. Test time:1.87. Noisy loss: 99.6. Accuracy: 72.36. [13471  6544  1887   957   209   115    23] [329 356 413 193  21   0   0]\n",
      "23\n",
      "Iteration: 24. Train time:112.96. Test time:1.85. Noisy loss: 103.69. Accuracy: 73.06. [14055  6836  1978   998   218   120    24] [345 364 422 202  22   0   0]\n",
      "24\n",
      "Iteration: 25. Train time:110.79. Test time:1.83. Noisy loss: 104.73. Accuracy: 74.02. [14647  7129  2067  1036   225   125    25] [353 371 433 214  25   0   0]\n",
      "25\n",
      "Iteration: 26. Train time:115.91. Test time:2.14. Noisy loss: 101.43. Accuracy: 73.97. [15232  7417  2146  1079   233   130    26] [368 383 454 221  27   0   0]\n",
      "26\n",
      "Iteration: 27. Train time:115.24. Test time:1.89. Noisy loss: 97.52. Accuracy: 74.81. [15822  7705  2231  1121   241   135    27] [378 395 469 229  29   0   0]\n",
      "27\n",
      "Iteration: 28. Train time:110.33. Test time:1.85. Noisy loss: 95.55. Accuracy: 75.16. [16417  7991  2313  1159   249   140    28] [383 409 487 241  31   0   0]\n",
      "28\n",
      "Iteration: 29. Train time:110.23. Test time:1.83. Noisy loss: 82.81. Accuracy: 76.06. [17009  8277  2400  1197   256   145    29] [391 423 500 253  34   0   0]\n",
      "29\n",
      "Iteration: 30. Train time:111.63. Test time:1.85. Noisy loss: 94.87. Accuracy: 76.17. [17604  8565  2488  1236   264   150    30] [396 435 512 264  36   0   0]\n",
      "30\n",
      "Iteration: 31. Train time:115.88. Test time:2.0. Noisy loss: 104.07. Accuracy: 76.34. [18192  8853  2569  1281   274   155    31] [408 447 531 269  36   0   0]\n",
      "31\n",
      "Iteration: 32. Train time:115.47. Test time:1.87. Noisy loss: 88.68. Accuracy: 76.91. [18785  9140  2654  1325   282   160    32] [415 460 546 275  38   0   0]\n"
     ]
    },
    {
     "data": {
      "text/plain": [
       "32378"
      ]
     },
     "execution_count": 99,
     "metadata": {},
     "output_type": "execute_result"
    }
   ],
   "source": [
    "t = 0\n",
    "time0 = time.time()\n",
    "print(time0)\n",
    "now = time0\n",
    "then = now\n",
    "while (now < (time0 + 3600.0)):\n",
    "    hmc.shuffle()\n",
    "    print(t)\n",
    "    g.evaluate.cache_clear() # risk of revisiting same state and scenario after reject, and gradient not being available [NOT NEEDED?? IF ALWAYS EVAL WITH GDT]\n",
    "    state, correction = hmc.hints(state, args.levels, always_accept = aa) # e.g. dbg = (t==0)\n",
    "    # diagnostic histogram\n",
    "    # show progress\n",
    "    prev_then = then\n",
    "    then = time.time()\n",
    "    t+=1\n",
    "    if True:\n",
    "        with torch.no_grad():\n",
    "            loss = MH.minibatch_loss(state, (t-1) % NUM_SCENARIOS)\n",
    "        correct = 0\n",
    "        total = 0\n",
    "        for images, labels in test_loader:\n",
    "            images = Variable(images.view(-1, 28*28))\n",
    "            outputs = state(images.to(device))\n",
    "            # TO DO convert these outputs to probs, to get more accurate Accuracy metric\n",
    "            # and to support historical averaging (e.g. q(n) = p(n) * 2/(n+1) + q(n-1) * (n-1)/(n+1))\n",
    "            _, predicted = torch.max(outputs.cpu().data, 1)\n",
    "            total += labels.size(0)\n",
    "            # for gpu, bring the predicted and labels back to cpu fro python operations to work\n",
    "            correct+= (predicted == labels).sum()\n",
    "        accuracy = 100 * float(correct)/total\n",
    "        prev_now = now\n",
    "        now = time.time()\n",
    "        print(\"Iteration: {}. Train time:{}. Test time:{}. Noisy loss: {}. Accuracy: {}.\"\\\n",
    "              .format(t, round(then - prev_now, 2), round(now - then, 2), round(loss.item(),2), accuracy), hmc.acceptances, hmc.rejections)\n",
    "    else:\n",
    "        now = time.time()\n",
    "        print(\"Iteration: {}. Time taken:{}.\"\\\n",
    "              .format(t, round(then - prev_then, 2), hmc.acceptances, hmc.rejections))\n",
    "\n",
    "# print time per evaluation\n",
    "hmc.acceptances.sum()\n"
   ]
  },
  {
   "cell_type": "code",
   "execution_count": 100,
   "metadata": {
    "tags": []
   },
   "outputs": [],
   "source": [
    "# NB steps are too small if we are not seeing occasional rejection at root - params would need tuning"
   ]
  },
  {
   "cell_type": "code",
   "execution_count": 101,
   "metadata": {
    "tags": []
   },
   "outputs": [
    {
     "name": "stdout",
     "output_type": "stream",
     "text": [
      "2 2 miss% = 100\n"
     ]
    }
   ],
   "source": [
    "# cache making no difference\n",
    "print(g.total_counter, g.counter, \"miss% = \" + str(int((100.0 * g.counter)/ g.total_counter))) # check cache ratio\n",
    "#(len(set(g.calls)), len(g.calls)) # check potential gain from cache"
   ]
  },
  {
   "cell_type": "code",
   "execution_count": 102,
   "metadata": {
    "tags": []
   },
   "outputs": [
    {
     "data": {
      "text/plain": [
       "CacheInfo(hits=2350, misses=6050, maxsize=1000000, currsize=6050)"
      ]
     },
     "execution_count": 102,
     "metadata": {},
     "output_type": "execute_result"
    }
   ],
   "source": [
    "g.evaluate.cache_info()"
   ]
  },
  {
   "cell_type": "code",
   "execution_count": null,
   "metadata": {},
   "outputs": [],
   "source": [
    "# looks to be better than MCMC [but for this dataset, no compelling case for MCMC methods]\n",
    "# HOW MUCH NOISE AT PRIMITIVE LEVEL? - zero case for SGD\n",
    "# aim for bigger moves at primitive level (or HMC chain?)\n",
    "# GPU - DONE\n",
    "# Bayesian accuracy measure e.g thru decaying average (triangle distrib)\n"
   ]
  }
 ],
 "metadata": {
  "kernelspec": {
   "display_name": "Python 3",
   "language": "python",
   "name": "python3"
  },
  "language_info": {
   "codemirror_mode": {
    "name": "ipython",
    "version": 3
   },
   "file_extension": ".py",
   "mimetype": "text/x-python",
   "name": "python",
   "nbconvert_exporter": "python",
   "pygments_lexer": "ipython3",
   "version": "3.7.16"
  }
 },
 "nbformat": 4,
 "nbformat_minor": 4
}
